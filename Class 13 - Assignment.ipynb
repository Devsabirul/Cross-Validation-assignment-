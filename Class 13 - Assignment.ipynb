{
 "cells": [
  {
   "cell_type": "code",
   "execution_count": 1,
   "id": "75c49020",
   "metadata": {},
   "outputs": [],
   "source": [
    "#import libraries \n",
    "import pandas as pd \n",
    "import numpy as np \n",
    "import seaborn as sns \n",
    "import matplotlib.pyplot as plt "
   ]
  },
  {
   "cell_type": "code",
   "execution_count": 2,
   "id": "72771565",
   "metadata": {},
   "outputs": [],
   "source": [
    "df = pd.read_csv(r'D:\\Programming\\ML_DATA\\\\Phishing Data.csv') #import data set "
   ]
  },
  {
   "cell_type": "code",
   "execution_count": 3,
   "id": "2a463de2",
   "metadata": {},
   "outputs": [],
   "source": [
    "# it's use for Show All columns.\n",
    "pd.set_option('display.max_columns',None)\n",
    "pd.set_option('display.max_rows',None)"
   ]
  },
  {
   "cell_type": "code",
   "execution_count": 4,
   "id": "5c158df8",
   "metadata": {},
   "outputs": [
    {
     "data": {
      "text/html": [
       "<div>\n",
       "<style scoped>\n",
       "    .dataframe tbody tr th:only-of-type {\n",
       "        vertical-align: middle;\n",
       "    }\n",
       "\n",
       "    .dataframe tbody tr th {\n",
       "        vertical-align: top;\n",
       "    }\n",
       "\n",
       "    .dataframe thead th {\n",
       "        text-align: right;\n",
       "    }\n",
       "</style>\n",
       "<table border=\"1\" class=\"dataframe\">\n",
       "  <thead>\n",
       "    <tr style=\"text-align: right;\">\n",
       "      <th></th>\n",
       "      <th>Total Number of Characters C</th>\n",
       "      <th>Vocabulary richness W/C</th>\n",
       "      <th>Account</th>\n",
       "      <th>Access</th>\n",
       "      <th>Bank</th>\n",
       "      <th>Credit</th>\n",
       "      <th>Click</th>\n",
       "      <th>Identity</th>\n",
       "      <th>Inconvenience</th>\n",
       "      <th>Information</th>\n",
       "      <th>Limited</th>\n",
       "      <th>Minutes</th>\n",
       "      <th>Password</th>\n",
       "      <th>Recently</th>\n",
       "      <th>Risk</th>\n",
       "      <th>Social</th>\n",
       "      <th>Security</th>\n",
       "      <th>Service</th>\n",
       "      <th>Suspended</th>\n",
       "      <th>Total number of Function words/W</th>\n",
       "      <th>Unique Words</th>\n",
       "      <th>Phishing Status</th>\n",
       "    </tr>\n",
       "  </thead>\n",
       "  <tbody>\n",
       "    <tr>\n",
       "      <th>0</th>\n",
       "      <td>1673</td>\n",
       "      <td>0.128512</td>\n",
       "      <td>2</td>\n",
       "      <td>0</td>\n",
       "      <td>0</td>\n",
       "      <td>0</td>\n",
       "      <td>1</td>\n",
       "      <td>0</td>\n",
       "      <td>0</td>\n",
       "      <td>1</td>\n",
       "      <td>0</td>\n",
       "      <td>0</td>\n",
       "      <td>1</td>\n",
       "      <td>1</td>\n",
       "      <td>0</td>\n",
       "      <td>0</td>\n",
       "      <td>0</td>\n",
       "      <td>0</td>\n",
       "      <td>0</td>\n",
       "      <td>0.027907</td>\n",
       "      <td>132</td>\n",
       "      <td>1</td>\n",
       "    </tr>\n",
       "    <tr>\n",
       "      <th>1</th>\n",
       "      <td>4465</td>\n",
       "      <td>0.137738</td>\n",
       "      <td>0</td>\n",
       "      <td>0</td>\n",
       "      <td>0</td>\n",
       "      <td>0</td>\n",
       "      <td>0</td>\n",
       "      <td>0</td>\n",
       "      <td>0</td>\n",
       "      <td>4</td>\n",
       "      <td>0</td>\n",
       "      <td>0</td>\n",
       "      <td>0</td>\n",
       "      <td>0</td>\n",
       "      <td>0</td>\n",
       "      <td>0</td>\n",
       "      <td>3</td>\n",
       "      <td>1</td>\n",
       "      <td>0</td>\n",
       "      <td>0.013008</td>\n",
       "      <td>338</td>\n",
       "      <td>1</td>\n",
       "    </tr>\n",
       "    <tr>\n",
       "      <th>2</th>\n",
       "      <td>6813</td>\n",
       "      <td>0.095993</td>\n",
       "      <td>0</td>\n",
       "      <td>0</td>\n",
       "      <td>0</td>\n",
       "      <td>2</td>\n",
       "      <td>0</td>\n",
       "      <td>0</td>\n",
       "      <td>0</td>\n",
       "      <td>2</td>\n",
       "      <td>0</td>\n",
       "      <td>0</td>\n",
       "      <td>0</td>\n",
       "      <td>0</td>\n",
       "      <td>0</td>\n",
       "      <td>0</td>\n",
       "      <td>0</td>\n",
       "      <td>0</td>\n",
       "      <td>0</td>\n",
       "      <td>0.006116</td>\n",
       "      <td>292</td>\n",
       "      <td>1</td>\n",
       "    </tr>\n",
       "    <tr>\n",
       "      <th>3</th>\n",
       "      <td>1518</td>\n",
       "      <td>0.109354</td>\n",
       "      <td>0</td>\n",
       "      <td>0</td>\n",
       "      <td>0</td>\n",
       "      <td>1</td>\n",
       "      <td>1</td>\n",
       "      <td>0</td>\n",
       "      <td>0</td>\n",
       "      <td>0</td>\n",
       "      <td>0</td>\n",
       "      <td>0</td>\n",
       "      <td>0</td>\n",
       "      <td>0</td>\n",
       "      <td>0</td>\n",
       "      <td>0</td>\n",
       "      <td>0</td>\n",
       "      <td>0</td>\n",
       "      <td>0</td>\n",
       "      <td>0.012048</td>\n",
       "      <td>102</td>\n",
       "      <td>1</td>\n",
       "    </tr>\n",
       "    <tr>\n",
       "      <th>4</th>\n",
       "      <td>1881</td>\n",
       "      <td>0.126528</td>\n",
       "      <td>7</td>\n",
       "      <td>3</td>\n",
       "      <td>0</td>\n",
       "      <td>0</td>\n",
       "      <td>0</td>\n",
       "      <td>1</td>\n",
       "      <td>0</td>\n",
       "      <td>2</td>\n",
       "      <td>0</td>\n",
       "      <td>0</td>\n",
       "      <td>0</td>\n",
       "      <td>0</td>\n",
       "      <td>0</td>\n",
       "      <td>0</td>\n",
       "      <td>0</td>\n",
       "      <td>0</td>\n",
       "      <td>2</td>\n",
       "      <td>0.063025</td>\n",
       "      <td>136</td>\n",
       "      <td>1</td>\n",
       "    </tr>\n",
       "  </tbody>\n",
       "</table>\n",
       "</div>"
      ],
      "text/plain": [
       "   Total Number of Characters C  Vocabulary richness W/C  Account  Access  \\\n",
       "0                          1673                 0.128512        2       0   \n",
       "1                          4465                 0.137738        0       0   \n",
       "2                          6813                 0.095993        0       0   \n",
       "3                          1518                 0.109354        0       0   \n",
       "4                          1881                 0.126528        7       3   \n",
       "\n",
       "   Bank  Credit  Click  Identity  Inconvenience  Information  Limited  \\\n",
       "0     0       0      1         0              0            1        0   \n",
       "1     0       0      0         0              0            4        0   \n",
       "2     0       2      0         0              0            2        0   \n",
       "3     0       1      1         0              0            0        0   \n",
       "4     0       0      0         1              0            2        0   \n",
       "\n",
       "   Minutes  Password  Recently  Risk  Social  Security  Service  Suspended  \\\n",
       "0        0         1         1     0       0         0        0          0   \n",
       "1        0         0         0     0       0         3        1          0   \n",
       "2        0         0         0     0       0         0        0          0   \n",
       "3        0         0         0     0       0         0        0          0   \n",
       "4        0         0         0     0       0         0        0          2   \n",
       "\n",
       "   Total number of Function words/W  Unique Words  Phishing Status  \n",
       "0                          0.027907           132                1  \n",
       "1                          0.013008           338                1  \n",
       "2                          0.006116           292                1  \n",
       "3                          0.012048           102                1  \n",
       "4                          0.063025           136                1  "
      ]
     },
     "execution_count": 4,
     "metadata": {},
     "output_type": "execute_result"
    }
   ],
   "source": [
    "df.head()"
   ]
  },
  {
   "cell_type": "code",
   "execution_count": null,
   "id": "7219b941",
   "metadata": {},
   "outputs": [],
   "source": []
  },
  {
   "cell_type": "code",
   "execution_count": 5,
   "id": "d09f43d0",
   "metadata": {},
   "outputs": [
    {
     "data": {
      "text/plain": [
       "(525754, 22)"
      ]
     },
     "execution_count": 5,
     "metadata": {},
     "output_type": "execute_result"
    }
   ],
   "source": [
    "df.shape"
   ]
  },
  {
   "cell_type": "code",
   "execution_count": 6,
   "id": "4cb2daa1",
   "metadata": {},
   "outputs": [
    {
     "data": {
      "text/plain": [
       "0    517402\n",
       "1      8352\n",
       "Name: Phishing Status, dtype: int64"
      ]
     },
     "execution_count": 6,
     "metadata": {},
     "output_type": "execute_result"
    }
   ],
   "source": [
    "df['Phishing Status'].value_counts()"
   ]
  },
  {
   "cell_type": "code",
   "execution_count": 7,
   "id": "1d244a81",
   "metadata": {},
   "outputs": [],
   "source": [
    "#task:1 Analysis the dataset using seaborn / matplotlib / scatter\n",
    "#task:3 Do sampling on given dataset and Create ML model and evaluate model by cross validation again\n",
    "#task:4 Evaluate all results"
   ]
  },
  {
   "cell_type": "markdown",
   "id": "589a0a8e",
   "metadata": {},
   "source": [
    "# task:1"
   ]
  },
  {
   "cell_type": "code",
   "execution_count": 8,
   "id": "2c15d1e5",
   "metadata": {},
   "outputs": [
    {
     "name": "stdout",
     "output_type": "stream",
     "text": [
      "<class 'pandas.core.frame.DataFrame'>\n",
      "RangeIndex: 525754 entries, 0 to 525753\n",
      "Data columns (total 22 columns):\n",
      " #   Column                            Non-Null Count   Dtype  \n",
      "---  ------                            --------------   -----  \n",
      " 0   Total Number of Characters C      525754 non-null  int64  \n",
      " 1   Vocabulary richness W/C           525754 non-null  float64\n",
      " 2   Account                           525754 non-null  int64  \n",
      " 3   Access                            525754 non-null  int64  \n",
      " 4   Bank                              525754 non-null  int64  \n",
      " 5   Credit                            525754 non-null  int64  \n",
      " 6   Click                             525754 non-null  int64  \n",
      " 7   Identity                          525754 non-null  int64  \n",
      " 8   Inconvenience                     525754 non-null  int64  \n",
      " 9   Information                       525754 non-null  int64  \n",
      " 10  Limited                           525754 non-null  int64  \n",
      " 11  Minutes                           525754 non-null  int64  \n",
      " 12  Password                          525754 non-null  int64  \n",
      " 13  Recently                          525754 non-null  int64  \n",
      " 14  Risk                              525754 non-null  int64  \n",
      " 15  Social                            525754 non-null  int64  \n",
      " 16  Security                          525754 non-null  int64  \n",
      " 17  Service                           525754 non-null  int64  \n",
      " 18  Suspended                         525754 non-null  int64  \n",
      " 19  Total number of Function words/W  525754 non-null  float64\n",
      " 20  Unique Words                      525754 non-null  int64  \n",
      " 21  Phishing Status                   525754 non-null  int64  \n",
      "dtypes: float64(2), int64(20)\n",
      "memory usage: 88.2 MB\n"
     ]
    }
   ],
   "source": [
    "#Analysis dataset\n",
    "df.info()"
   ]
  },
  {
   "cell_type": "code",
   "execution_count": 9,
   "id": "5234e019",
   "metadata": {},
   "outputs": [
    {
     "data": {
      "text/plain": [
       "Total Number of Characters C        0\n",
       "Vocabulary richness W/C             0\n",
       "Account                             0\n",
       "Access                              0\n",
       "Bank                                0\n",
       "Credit                              0\n",
       "Click                               0\n",
       "Identity                            0\n",
       "Inconvenience                       0\n",
       "Information                         0\n",
       "Limited                             0\n",
       "Minutes                             0\n",
       "Password                            0\n",
       "Recently                            0\n",
       "Risk                                0\n",
       "Social                              0\n",
       "Security                            0\n",
       "Service                             0\n",
       "Suspended                           0\n",
       "Total number of Function words/W    0\n",
       "Unique Words                        0\n",
       "Phishing Status                     0\n",
       "dtype: int64"
      ]
     },
     "execution_count": 9,
     "metadata": {},
     "output_type": "execute_result"
    }
   ],
   "source": [
    "df.isnull().sum()"
   ]
  },
  {
   "cell_type": "code",
   "execution_count": 10,
   "id": "cb938aec",
   "metadata": {},
   "outputs": [],
   "source": [
    "df.drop_duplicates(inplace=True)"
   ]
  },
  {
   "cell_type": "code",
   "execution_count": 11,
   "id": "a06386a0",
   "metadata": {},
   "outputs": [
    {
     "data": {
      "text/plain": [
       "(451085, 22)"
      ]
     },
     "execution_count": 11,
     "metadata": {},
     "output_type": "execute_result"
    }
   ],
   "source": [
    "df.shape"
   ]
  },
  {
   "cell_type": "code",
   "execution_count": 12,
   "id": "abe38176",
   "metadata": {},
   "outputs": [
    {
     "data": {
      "text/html": [
       "<div>\n",
       "<style scoped>\n",
       "    .dataframe tbody tr th:only-of-type {\n",
       "        vertical-align: middle;\n",
       "    }\n",
       "\n",
       "    .dataframe tbody tr th {\n",
       "        vertical-align: top;\n",
       "    }\n",
       "\n",
       "    .dataframe thead th {\n",
       "        text-align: right;\n",
       "    }\n",
       "</style>\n",
       "<table border=\"1\" class=\"dataframe\">\n",
       "  <thead>\n",
       "    <tr style=\"text-align: right;\">\n",
       "      <th></th>\n",
       "      <th>Total Number of Characters C</th>\n",
       "      <th>Vocabulary richness W/C</th>\n",
       "      <th>Account</th>\n",
       "      <th>Access</th>\n",
       "      <th>Bank</th>\n",
       "      <th>Credit</th>\n",
       "      <th>Click</th>\n",
       "      <th>Identity</th>\n",
       "      <th>Inconvenience</th>\n",
       "      <th>Information</th>\n",
       "      <th>Limited</th>\n",
       "      <th>Minutes</th>\n",
       "      <th>Password</th>\n",
       "      <th>Recently</th>\n",
       "      <th>Risk</th>\n",
       "      <th>Social</th>\n",
       "      <th>Security</th>\n",
       "      <th>Service</th>\n",
       "      <th>Suspended</th>\n",
       "      <th>Total number of Function words/W</th>\n",
       "      <th>Unique Words</th>\n",
       "      <th>Phishing Status</th>\n",
       "    </tr>\n",
       "  </thead>\n",
       "  <tbody>\n",
       "    <tr>\n",
       "      <th>0</th>\n",
       "      <td>1673</td>\n",
       "      <td>0.128512</td>\n",
       "      <td>2</td>\n",
       "      <td>0</td>\n",
       "      <td>0</td>\n",
       "      <td>0</td>\n",
       "      <td>1</td>\n",
       "      <td>0</td>\n",
       "      <td>0</td>\n",
       "      <td>1</td>\n",
       "      <td>0</td>\n",
       "      <td>0</td>\n",
       "      <td>1</td>\n",
       "      <td>1</td>\n",
       "      <td>0</td>\n",
       "      <td>0</td>\n",
       "      <td>0</td>\n",
       "      <td>0</td>\n",
       "      <td>0</td>\n",
       "      <td>0.027907</td>\n",
       "      <td>132</td>\n",
       "      <td>1</td>\n",
       "    </tr>\n",
       "    <tr>\n",
       "      <th>1</th>\n",
       "      <td>4465</td>\n",
       "      <td>0.137738</td>\n",
       "      <td>0</td>\n",
       "      <td>0</td>\n",
       "      <td>0</td>\n",
       "      <td>0</td>\n",
       "      <td>0</td>\n",
       "      <td>0</td>\n",
       "      <td>0</td>\n",
       "      <td>4</td>\n",
       "      <td>0</td>\n",
       "      <td>0</td>\n",
       "      <td>0</td>\n",
       "      <td>0</td>\n",
       "      <td>0</td>\n",
       "      <td>0</td>\n",
       "      <td>3</td>\n",
       "      <td>1</td>\n",
       "      <td>0</td>\n",
       "      <td>0.013008</td>\n",
       "      <td>338</td>\n",
       "      <td>1</td>\n",
       "    </tr>\n",
       "    <tr>\n",
       "      <th>2</th>\n",
       "      <td>6813</td>\n",
       "      <td>0.095993</td>\n",
       "      <td>0</td>\n",
       "      <td>0</td>\n",
       "      <td>0</td>\n",
       "      <td>2</td>\n",
       "      <td>0</td>\n",
       "      <td>0</td>\n",
       "      <td>0</td>\n",
       "      <td>2</td>\n",
       "      <td>0</td>\n",
       "      <td>0</td>\n",
       "      <td>0</td>\n",
       "      <td>0</td>\n",
       "      <td>0</td>\n",
       "      <td>0</td>\n",
       "      <td>0</td>\n",
       "      <td>0</td>\n",
       "      <td>0</td>\n",
       "      <td>0.006116</td>\n",
       "      <td>292</td>\n",
       "      <td>1</td>\n",
       "    </tr>\n",
       "    <tr>\n",
       "      <th>3</th>\n",
       "      <td>1518</td>\n",
       "      <td>0.109354</td>\n",
       "      <td>0</td>\n",
       "      <td>0</td>\n",
       "      <td>0</td>\n",
       "      <td>1</td>\n",
       "      <td>1</td>\n",
       "      <td>0</td>\n",
       "      <td>0</td>\n",
       "      <td>0</td>\n",
       "      <td>0</td>\n",
       "      <td>0</td>\n",
       "      <td>0</td>\n",
       "      <td>0</td>\n",
       "      <td>0</td>\n",
       "      <td>0</td>\n",
       "      <td>0</td>\n",
       "      <td>0</td>\n",
       "      <td>0</td>\n",
       "      <td>0.012048</td>\n",
       "      <td>102</td>\n",
       "      <td>1</td>\n",
       "    </tr>\n",
       "    <tr>\n",
       "      <th>4</th>\n",
       "      <td>1881</td>\n",
       "      <td>0.126528</td>\n",
       "      <td>7</td>\n",
       "      <td>3</td>\n",
       "      <td>0</td>\n",
       "      <td>0</td>\n",
       "      <td>0</td>\n",
       "      <td>1</td>\n",
       "      <td>0</td>\n",
       "      <td>2</td>\n",
       "      <td>0</td>\n",
       "      <td>0</td>\n",
       "      <td>0</td>\n",
       "      <td>0</td>\n",
       "      <td>0</td>\n",
       "      <td>0</td>\n",
       "      <td>0</td>\n",
       "      <td>0</td>\n",
       "      <td>2</td>\n",
       "      <td>0.063025</td>\n",
       "      <td>136</td>\n",
       "      <td>1</td>\n",
       "    </tr>\n",
       "  </tbody>\n",
       "</table>\n",
       "</div>"
      ],
      "text/plain": [
       "   Total Number of Characters C  Vocabulary richness W/C  Account  Access  \\\n",
       "0                          1673                 0.128512        2       0   \n",
       "1                          4465                 0.137738        0       0   \n",
       "2                          6813                 0.095993        0       0   \n",
       "3                          1518                 0.109354        0       0   \n",
       "4                          1881                 0.126528        7       3   \n",
       "\n",
       "   Bank  Credit  Click  Identity  Inconvenience  Information  Limited  \\\n",
       "0     0       0      1         0              0            1        0   \n",
       "1     0       0      0         0              0            4        0   \n",
       "2     0       2      0         0              0            2        0   \n",
       "3     0       1      1         0              0            0        0   \n",
       "4     0       0      0         1              0            2        0   \n",
       "\n",
       "   Minutes  Password  Recently  Risk  Social  Security  Service  Suspended  \\\n",
       "0        0         1         1     0       0         0        0          0   \n",
       "1        0         0         0     0       0         3        1          0   \n",
       "2        0         0         0     0       0         0        0          0   \n",
       "3        0         0         0     0       0         0        0          0   \n",
       "4        0         0         0     0       0         0        0          2   \n",
       "\n",
       "   Total number of Function words/W  Unique Words  Phishing Status  \n",
       "0                          0.027907           132                1  \n",
       "1                          0.013008           338                1  \n",
       "2                          0.006116           292                1  \n",
       "3                          0.012048           102                1  \n",
       "4                          0.063025           136                1  "
      ]
     },
     "execution_count": 12,
     "metadata": {},
     "output_type": "execute_result"
    }
   ],
   "source": [
    "df.head()"
   ]
  },
  {
   "cell_type": "code",
   "execution_count": 13,
   "id": "00b8f2bd",
   "metadata": {},
   "outputs": [
    {
     "data": {
      "text/html": [
       "<div>\n",
       "<style scoped>\n",
       "    .dataframe tbody tr th:only-of-type {\n",
       "        vertical-align: middle;\n",
       "    }\n",
       "\n",
       "    .dataframe tbody tr th {\n",
       "        vertical-align: top;\n",
       "    }\n",
       "\n",
       "    .dataframe thead th {\n",
       "        text-align: right;\n",
       "    }\n",
       "</style>\n",
       "<table border=\"1\" class=\"dataframe\">\n",
       "  <thead>\n",
       "    <tr style=\"text-align: right;\">\n",
       "      <th></th>\n",
       "      <th>Total Number of Characters C</th>\n",
       "      <th>Vocabulary richness W/C</th>\n",
       "      <th>Account</th>\n",
       "      <th>Access</th>\n",
       "      <th>Bank</th>\n",
       "      <th>Credit</th>\n",
       "      <th>Click</th>\n",
       "      <th>Identity</th>\n",
       "      <th>Inconvenience</th>\n",
       "      <th>Information</th>\n",
       "      <th>Limited</th>\n",
       "      <th>Minutes</th>\n",
       "      <th>Password</th>\n",
       "      <th>Recently</th>\n",
       "      <th>Risk</th>\n",
       "      <th>Social</th>\n",
       "      <th>Security</th>\n",
       "      <th>Service</th>\n",
       "      <th>Suspended</th>\n",
       "      <th>Total number of Function words/W</th>\n",
       "      <th>Unique Words</th>\n",
       "      <th>Phishing Status</th>\n",
       "    </tr>\n",
       "  </thead>\n",
       "  <tbody>\n",
       "    <tr>\n",
       "      <th>Total Number of Characters C</th>\n",
       "      <td>1.000000</td>\n",
       "      <td>-0.002116</td>\n",
       "      <td>0.083265</td>\n",
       "      <td>0.152107</td>\n",
       "      <td>0.191894</td>\n",
       "      <td>0.204276</td>\n",
       "      <td>0.060481</td>\n",
       "      <td>0.042419</td>\n",
       "      <td>0.030526</td>\n",
       "      <td>0.185307</td>\n",
       "      <td>0.246313</td>\n",
       "      <td>0.093064</td>\n",
       "      <td>0.006735</td>\n",
       "      <td>0.271126</td>\n",
       "      <td>0.135223</td>\n",
       "      <td>0.062420</td>\n",
       "      <td>0.108267</td>\n",
       "      <td>0.259593</td>\n",
       "      <td>0.099211</td>\n",
       "      <td>0.008601</td>\n",
       "      <td>0.778506</td>\n",
       "      <td>0.051091</td>\n",
       "    </tr>\n",
       "    <tr>\n",
       "      <th>Vocabulary richness W/C</th>\n",
       "      <td>-0.002116</td>\n",
       "      <td>1.000000</td>\n",
       "      <td>0.016879</td>\n",
       "      <td>0.071430</td>\n",
       "      <td>0.066452</td>\n",
       "      <td>0.084877</td>\n",
       "      <td>0.054371</td>\n",
       "      <td>0.003991</td>\n",
       "      <td>0.000312</td>\n",
       "      <td>0.115901</td>\n",
       "      <td>0.106885</td>\n",
       "      <td>0.068760</td>\n",
       "      <td>0.027050</td>\n",
       "      <td>0.100285</td>\n",
       "      <td>0.110754</td>\n",
       "      <td>0.027247</td>\n",
       "      <td>0.035346</td>\n",
       "      <td>0.113242</td>\n",
       "      <td>0.028337</td>\n",
       "      <td>0.072776</td>\n",
       "      <td>0.143075</td>\n",
       "      <td>-0.105144</td>\n",
       "    </tr>\n",
       "    <tr>\n",
       "      <th>Account</th>\n",
       "      <td>0.083265</td>\n",
       "      <td>0.016879</td>\n",
       "      <td>1.000000</td>\n",
       "      <td>0.179427</td>\n",
       "      <td>0.139401</td>\n",
       "      <td>0.080516</td>\n",
       "      <td>0.088878</td>\n",
       "      <td>0.137322</td>\n",
       "      <td>0.229636</td>\n",
       "      <td>0.127405</td>\n",
       "      <td>0.167973</td>\n",
       "      <td>0.021175</td>\n",
       "      <td>0.103202</td>\n",
       "      <td>0.122712</td>\n",
       "      <td>0.022294</td>\n",
       "      <td>0.020610</td>\n",
       "      <td>0.237170</td>\n",
       "      <td>0.076579</td>\n",
       "      <td>0.114873</td>\n",
       "      <td>0.409819</td>\n",
       "      <td>0.108540</td>\n",
       "      <td>0.497483</td>\n",
       "    </tr>\n",
       "    <tr>\n",
       "      <th>Access</th>\n",
       "      <td>0.152107</td>\n",
       "      <td>0.071430</td>\n",
       "      <td>0.179427</td>\n",
       "      <td>1.000000</td>\n",
       "      <td>0.114669</td>\n",
       "      <td>0.116968</td>\n",
       "      <td>0.096599</td>\n",
       "      <td>0.045184</td>\n",
       "      <td>0.079793</td>\n",
       "      <td>0.206722</td>\n",
       "      <td>0.160009</td>\n",
       "      <td>0.073901</td>\n",
       "      <td>0.102375</td>\n",
       "      <td>0.155169</td>\n",
       "      <td>0.085121</td>\n",
       "      <td>0.019349</td>\n",
       "      <td>0.178466</td>\n",
       "      <td>0.310509</td>\n",
       "      <td>0.056917</td>\n",
       "      <td>0.308671</td>\n",
       "      <td>0.261473</td>\n",
       "      <td>0.081013</td>\n",
       "    </tr>\n",
       "    <tr>\n",
       "      <th>Bank</th>\n",
       "      <td>0.191894</td>\n",
       "      <td>0.066452</td>\n",
       "      <td>0.139401</td>\n",
       "      <td>0.114669</td>\n",
       "      <td>1.000000</td>\n",
       "      <td>0.369442</td>\n",
       "      <td>0.027049</td>\n",
       "      <td>0.047031</td>\n",
       "      <td>0.023036</td>\n",
       "      <td>0.108247</td>\n",
       "      <td>0.252722</td>\n",
       "      <td>0.032711</td>\n",
       "      <td>0.007522</td>\n",
       "      <td>0.214060</td>\n",
       "      <td>0.202636</td>\n",
       "      <td>0.043333</td>\n",
       "      <td>0.111601</td>\n",
       "      <td>0.213697</td>\n",
       "      <td>0.065849</td>\n",
       "      <td>0.156501</td>\n",
       "      <td>0.293280</td>\n",
       "      <td>0.124631</td>\n",
       "    </tr>\n",
       "    <tr>\n",
       "      <th>Credit</th>\n",
       "      <td>0.204276</td>\n",
       "      <td>0.084877</td>\n",
       "      <td>0.080516</td>\n",
       "      <td>0.116968</td>\n",
       "      <td>0.369442</td>\n",
       "      <td>1.000000</td>\n",
       "      <td>0.023917</td>\n",
       "      <td>0.042751</td>\n",
       "      <td>0.020260</td>\n",
       "      <td>0.125355</td>\n",
       "      <td>0.351086</td>\n",
       "      <td>0.024523</td>\n",
       "      <td>-0.001671</td>\n",
       "      <td>0.187718</td>\n",
       "      <td>0.279082</td>\n",
       "      <td>0.022006</td>\n",
       "      <td>0.077355</td>\n",
       "      <td>0.243998</td>\n",
       "      <td>0.070255</td>\n",
       "      <td>0.200742</td>\n",
       "      <td>0.311056</td>\n",
       "      <td>0.012774</td>\n",
       "    </tr>\n",
       "    <tr>\n",
       "      <th>Click</th>\n",
       "      <td>0.060481</td>\n",
       "      <td>0.054371</td>\n",
       "      <td>0.088878</td>\n",
       "      <td>0.096599</td>\n",
       "      <td>0.027049</td>\n",
       "      <td>0.023917</td>\n",
       "      <td>1.000000</td>\n",
       "      <td>0.017591</td>\n",
       "      <td>0.014315</td>\n",
       "      <td>0.100119</td>\n",
       "      <td>0.083914</td>\n",
       "      <td>0.043377</td>\n",
       "      <td>0.086355</td>\n",
       "      <td>0.020944</td>\n",
       "      <td>0.033421</td>\n",
       "      <td>0.007559</td>\n",
       "      <td>0.044626</td>\n",
       "      <td>0.074350</td>\n",
       "      <td>0.024757</td>\n",
       "      <td>0.276980</td>\n",
       "      <td>0.120016</td>\n",
       "      <td>0.055107</td>\n",
       "    </tr>\n",
       "    <tr>\n",
       "      <th>Identity</th>\n",
       "      <td>0.042419</td>\n",
       "      <td>0.003991</td>\n",
       "      <td>0.137322</td>\n",
       "      <td>0.045184</td>\n",
       "      <td>0.047031</td>\n",
       "      <td>0.042751</td>\n",
       "      <td>0.017591</td>\n",
       "      <td>1.000000</td>\n",
       "      <td>0.046390</td>\n",
       "      <td>0.076662</td>\n",
       "      <td>0.046888</td>\n",
       "      <td>0.007946</td>\n",
       "      <td>0.009521</td>\n",
       "      <td>0.046700</td>\n",
       "      <td>0.007388</td>\n",
       "      <td>0.022728</td>\n",
       "      <td>0.077295</td>\n",
       "      <td>0.055467</td>\n",
       "      <td>0.031660</td>\n",
       "      <td>0.101277</td>\n",
       "      <td>0.053712</td>\n",
       "      <td>0.147700</td>\n",
       "    </tr>\n",
       "    <tr>\n",
       "      <th>Inconvenience</th>\n",
       "      <td>0.030526</td>\n",
       "      <td>0.000312</td>\n",
       "      <td>0.229636</td>\n",
       "      <td>0.079793</td>\n",
       "      <td>0.023036</td>\n",
       "      <td>0.020260</td>\n",
       "      <td>0.014315</td>\n",
       "      <td>0.046390</td>\n",
       "      <td>1.000000</td>\n",
       "      <td>0.030029</td>\n",
       "      <td>0.080864</td>\n",
       "      <td>0.014593</td>\n",
       "      <td>0.027340</td>\n",
       "      <td>0.044667</td>\n",
       "      <td>0.005357</td>\n",
       "      <td>0.001749</td>\n",
       "      <td>0.133371</td>\n",
       "      <td>0.027418</td>\n",
       "      <td>0.037234</td>\n",
       "      <td>0.146563</td>\n",
       "      <td>0.038117</td>\n",
       "      <td>0.174929</td>\n",
       "    </tr>\n",
       "    <tr>\n",
       "      <th>Information</th>\n",
       "      <td>0.185307</td>\n",
       "      <td>0.115901</td>\n",
       "      <td>0.127405</td>\n",
       "      <td>0.206722</td>\n",
       "      <td>0.108247</td>\n",
       "      <td>0.125355</td>\n",
       "      <td>0.100119</td>\n",
       "      <td>0.076662</td>\n",
       "      <td>0.030029</td>\n",
       "      <td>1.000000</td>\n",
       "      <td>0.190200</td>\n",
       "      <td>0.056707</td>\n",
       "      <td>0.037702</td>\n",
       "      <td>0.177508</td>\n",
       "      <td>0.139575</td>\n",
       "      <td>0.044645</td>\n",
       "      <td>0.150214</td>\n",
       "      <td>0.231139</td>\n",
       "      <td>0.051673</td>\n",
       "      <td>0.292002</td>\n",
       "      <td>0.303651</td>\n",
       "      <td>0.061520</td>\n",
       "    </tr>\n",
       "    <tr>\n",
       "      <th>Limited</th>\n",
       "      <td>0.246313</td>\n",
       "      <td>0.106885</td>\n",
       "      <td>0.167973</td>\n",
       "      <td>0.160009</td>\n",
       "      <td>0.252722</td>\n",
       "      <td>0.351086</td>\n",
       "      <td>0.083914</td>\n",
       "      <td>0.046888</td>\n",
       "      <td>0.080864</td>\n",
       "      <td>0.190200</td>\n",
       "      <td>1.000000</td>\n",
       "      <td>0.073684</td>\n",
       "      <td>0.017365</td>\n",
       "      <td>0.281431</td>\n",
       "      <td>0.133351</td>\n",
       "      <td>0.030336</td>\n",
       "      <td>0.122529</td>\n",
       "      <td>0.286592</td>\n",
       "      <td>0.101100</td>\n",
       "      <td>0.135955</td>\n",
       "      <td>0.371636</td>\n",
       "      <td>0.058263</td>\n",
       "    </tr>\n",
       "    <tr>\n",
       "      <th>Minutes</th>\n",
       "      <td>0.093064</td>\n",
       "      <td>0.068760</td>\n",
       "      <td>0.021175</td>\n",
       "      <td>0.073901</td>\n",
       "      <td>0.032711</td>\n",
       "      <td>0.024523</td>\n",
       "      <td>0.043377</td>\n",
       "      <td>0.007946</td>\n",
       "      <td>0.014593</td>\n",
       "      <td>0.056707</td>\n",
       "      <td>0.073684</td>\n",
       "      <td>1.000000</td>\n",
       "      <td>0.000363</td>\n",
       "      <td>0.054721</td>\n",
       "      <td>0.026294</td>\n",
       "      <td>0.011534</td>\n",
       "      <td>0.023611</td>\n",
       "      <td>0.059178</td>\n",
       "      <td>0.026900</td>\n",
       "      <td>0.100717</td>\n",
       "      <td>0.153513</td>\n",
       "      <td>0.010951</td>\n",
       "    </tr>\n",
       "    <tr>\n",
       "      <th>Password</th>\n",
       "      <td>0.006735</td>\n",
       "      <td>0.027050</td>\n",
       "      <td>0.103202</td>\n",
       "      <td>0.102375</td>\n",
       "      <td>0.007522</td>\n",
       "      <td>-0.001671</td>\n",
       "      <td>0.086355</td>\n",
       "      <td>0.009521</td>\n",
       "      <td>0.027340</td>\n",
       "      <td>0.037702</td>\n",
       "      <td>0.017365</td>\n",
       "      <td>0.000363</td>\n",
       "      <td>1.000000</td>\n",
       "      <td>0.009948</td>\n",
       "      <td>-0.001334</td>\n",
       "      <td>0.003996</td>\n",
       "      <td>0.109842</td>\n",
       "      <td>0.014693</td>\n",
       "      <td>0.008341</td>\n",
       "      <td>0.269528</td>\n",
       "      <td>0.013661</td>\n",
       "      <td>0.070248</td>\n",
       "    </tr>\n",
       "    <tr>\n",
       "      <th>Recently</th>\n",
       "      <td>0.271126</td>\n",
       "      <td>0.100285</td>\n",
       "      <td>0.122712</td>\n",
       "      <td>0.155169</td>\n",
       "      <td>0.214060</td>\n",
       "      <td>0.187718</td>\n",
       "      <td>0.020944</td>\n",
       "      <td>0.046700</td>\n",
       "      <td>0.044667</td>\n",
       "      <td>0.177508</td>\n",
       "      <td>0.281431</td>\n",
       "      <td>0.054721</td>\n",
       "      <td>0.009948</td>\n",
       "      <td>1.000000</td>\n",
       "      <td>0.124687</td>\n",
       "      <td>0.128071</td>\n",
       "      <td>0.151618</td>\n",
       "      <td>0.279959</td>\n",
       "      <td>0.085548</td>\n",
       "      <td>0.084814</td>\n",
       "      <td>0.409054</td>\n",
       "      <td>0.049945</td>\n",
       "    </tr>\n",
       "    <tr>\n",
       "      <th>Risk</th>\n",
       "      <td>0.135223</td>\n",
       "      <td>0.110754</td>\n",
       "      <td>0.022294</td>\n",
       "      <td>0.085121</td>\n",
       "      <td>0.202636</td>\n",
       "      <td>0.279082</td>\n",
       "      <td>0.033421</td>\n",
       "      <td>0.007388</td>\n",
       "      <td>0.005357</td>\n",
       "      <td>0.139575</td>\n",
       "      <td>0.133351</td>\n",
       "      <td>0.026294</td>\n",
       "      <td>-0.001334</td>\n",
       "      <td>0.124687</td>\n",
       "      <td>1.000000</td>\n",
       "      <td>0.028890</td>\n",
       "      <td>0.048787</td>\n",
       "      <td>0.112977</td>\n",
       "      <td>0.031199</td>\n",
       "      <td>0.218126</td>\n",
       "      <td>0.236722</td>\n",
       "      <td>-0.019369</td>\n",
       "    </tr>\n",
       "    <tr>\n",
       "      <th>Social</th>\n",
       "      <td>0.062420</td>\n",
       "      <td>0.027247</td>\n",
       "      <td>0.020610</td>\n",
       "      <td>0.019349</td>\n",
       "      <td>0.043333</td>\n",
       "      <td>0.022006</td>\n",
       "      <td>0.007559</td>\n",
       "      <td>0.022728</td>\n",
       "      <td>0.001749</td>\n",
       "      <td>0.044645</td>\n",
       "      <td>0.030336</td>\n",
       "      <td>0.011534</td>\n",
       "      <td>0.003996</td>\n",
       "      <td>0.128071</td>\n",
       "      <td>0.028890</td>\n",
       "      <td>1.000000</td>\n",
       "      <td>0.324573</td>\n",
       "      <td>0.055777</td>\n",
       "      <td>0.020886</td>\n",
       "      <td>0.044555</td>\n",
       "      <td>0.099018</td>\n",
       "      <td>0.006355</td>\n",
       "    </tr>\n",
       "    <tr>\n",
       "      <th>Security</th>\n",
       "      <td>0.108267</td>\n",
       "      <td>0.035346</td>\n",
       "      <td>0.237170</td>\n",
       "      <td>0.178466</td>\n",
       "      <td>0.111601</td>\n",
       "      <td>0.077355</td>\n",
       "      <td>0.044626</td>\n",
       "      <td>0.077295</td>\n",
       "      <td>0.133371</td>\n",
       "      <td>0.150214</td>\n",
       "      <td>0.122529</td>\n",
       "      <td>0.023611</td>\n",
       "      <td>0.109842</td>\n",
       "      <td>0.151618</td>\n",
       "      <td>0.048787</td>\n",
       "      <td>0.324573</td>\n",
       "      <td>1.000000</td>\n",
       "      <td>0.150242</td>\n",
       "      <td>0.056373</td>\n",
       "      <td>0.269612</td>\n",
       "      <td>0.163471</td>\n",
       "      <td>0.185545</td>\n",
       "    </tr>\n",
       "    <tr>\n",
       "      <th>Service</th>\n",
       "      <td>0.259593</td>\n",
       "      <td>0.113242</td>\n",
       "      <td>0.076579</td>\n",
       "      <td>0.310509</td>\n",
       "      <td>0.213697</td>\n",
       "      <td>0.243998</td>\n",
       "      <td>0.074350</td>\n",
       "      <td>0.055467</td>\n",
       "      <td>0.027418</td>\n",
       "      <td>0.231139</td>\n",
       "      <td>0.286592</td>\n",
       "      <td>0.059178</td>\n",
       "      <td>0.014693</td>\n",
       "      <td>0.279959</td>\n",
       "      <td>0.112977</td>\n",
       "      <td>0.055777</td>\n",
       "      <td>0.150242</td>\n",
       "      <td>1.000000</td>\n",
       "      <td>0.092223</td>\n",
       "      <td>0.156978</td>\n",
       "      <td>0.404571</td>\n",
       "      <td>0.023631</td>\n",
       "    </tr>\n",
       "    <tr>\n",
       "      <th>Suspended</th>\n",
       "      <td>0.099211</td>\n",
       "      <td>0.028337</td>\n",
       "      <td>0.114873</td>\n",
       "      <td>0.056917</td>\n",
       "      <td>0.065849</td>\n",
       "      <td>0.070255</td>\n",
       "      <td>0.024757</td>\n",
       "      <td>0.031660</td>\n",
       "      <td>0.037234</td>\n",
       "      <td>0.051673</td>\n",
       "      <td>0.101100</td>\n",
       "      <td>0.026900</td>\n",
       "      <td>0.008341</td>\n",
       "      <td>0.085548</td>\n",
       "      <td>0.031199</td>\n",
       "      <td>0.020886</td>\n",
       "      <td>0.056373</td>\n",
       "      <td>0.092223</td>\n",
       "      <td>1.000000</td>\n",
       "      <td>0.079803</td>\n",
       "      <td>0.140697</td>\n",
       "      <td>0.095063</td>\n",
       "    </tr>\n",
       "    <tr>\n",
       "      <th>Total number of Function words/W</th>\n",
       "      <td>0.008601</td>\n",
       "      <td>0.072776</td>\n",
       "      <td>0.409819</td>\n",
       "      <td>0.308671</td>\n",
       "      <td>0.156501</td>\n",
       "      <td>0.200742</td>\n",
       "      <td>0.276980</td>\n",
       "      <td>0.101277</td>\n",
       "      <td>0.146563</td>\n",
       "      <td>0.292002</td>\n",
       "      <td>0.135955</td>\n",
       "      <td>0.100717</td>\n",
       "      <td>0.269528</td>\n",
       "      <td>0.084814</td>\n",
       "      <td>0.218126</td>\n",
       "      <td>0.044555</td>\n",
       "      <td>0.269612</td>\n",
       "      <td>0.156978</td>\n",
       "      <td>0.079803</td>\n",
       "      <td>1.000000</td>\n",
       "      <td>0.025764</td>\n",
       "      <td>0.288569</td>\n",
       "    </tr>\n",
       "    <tr>\n",
       "      <th>Unique Words</th>\n",
       "      <td>0.778506</td>\n",
       "      <td>0.143075</td>\n",
       "      <td>0.108540</td>\n",
       "      <td>0.261473</td>\n",
       "      <td>0.293280</td>\n",
       "      <td>0.311056</td>\n",
       "      <td>0.120016</td>\n",
       "      <td>0.053712</td>\n",
       "      <td>0.038117</td>\n",
       "      <td>0.303651</td>\n",
       "      <td>0.371636</td>\n",
       "      <td>0.153513</td>\n",
       "      <td>0.013661</td>\n",
       "      <td>0.409054</td>\n",
       "      <td>0.236722</td>\n",
       "      <td>0.099018</td>\n",
       "      <td>0.163471</td>\n",
       "      <td>0.404571</td>\n",
       "      <td>0.140697</td>\n",
       "      <td>0.025764</td>\n",
       "      <td>1.000000</td>\n",
       "      <td>0.018325</td>\n",
       "    </tr>\n",
       "    <tr>\n",
       "      <th>Phishing Status</th>\n",
       "      <td>0.051091</td>\n",
       "      <td>-0.105144</td>\n",
       "      <td>0.497483</td>\n",
       "      <td>0.081013</td>\n",
       "      <td>0.124631</td>\n",
       "      <td>0.012774</td>\n",
       "      <td>0.055107</td>\n",
       "      <td>0.147700</td>\n",
       "      <td>0.174929</td>\n",
       "      <td>0.061520</td>\n",
       "      <td>0.058263</td>\n",
       "      <td>0.010951</td>\n",
       "      <td>0.070248</td>\n",
       "      <td>0.049945</td>\n",
       "      <td>-0.019369</td>\n",
       "      <td>0.006355</td>\n",
       "      <td>0.185545</td>\n",
       "      <td>0.023631</td>\n",
       "      <td>0.095063</td>\n",
       "      <td>0.288569</td>\n",
       "      <td>0.018325</td>\n",
       "      <td>1.000000</td>\n",
       "    </tr>\n",
       "  </tbody>\n",
       "</table>\n",
       "</div>"
      ],
      "text/plain": [
       "                                  Total Number of Characters C  \\\n",
       "Total Number of Characters C                          1.000000   \n",
       "Vocabulary richness W/C                              -0.002116   \n",
       "Account                                               0.083265   \n",
       "Access                                                0.152107   \n",
       "Bank                                                  0.191894   \n",
       "Credit                                                0.204276   \n",
       "Click                                                 0.060481   \n",
       "Identity                                              0.042419   \n",
       "Inconvenience                                         0.030526   \n",
       "Information                                           0.185307   \n",
       "Limited                                               0.246313   \n",
       "Minutes                                               0.093064   \n",
       "Password                                              0.006735   \n",
       "Recently                                              0.271126   \n",
       "Risk                                                  0.135223   \n",
       "Social                                                0.062420   \n",
       "Security                                              0.108267   \n",
       "Service                                               0.259593   \n",
       "Suspended                                             0.099211   \n",
       "Total number of Function words/W                      0.008601   \n",
       "Unique Words                                          0.778506   \n",
       "Phishing Status                                       0.051091   \n",
       "\n",
       "                                  Vocabulary richness W/C   Account    Access  \\\n",
       "Total Number of Characters C                    -0.002116  0.083265  0.152107   \n",
       "Vocabulary richness W/C                          1.000000  0.016879  0.071430   \n",
       "Account                                          0.016879  1.000000  0.179427   \n",
       "Access                                           0.071430  0.179427  1.000000   \n",
       "Bank                                             0.066452  0.139401  0.114669   \n",
       "Credit                                           0.084877  0.080516  0.116968   \n",
       "Click                                            0.054371  0.088878  0.096599   \n",
       "Identity                                         0.003991  0.137322  0.045184   \n",
       "Inconvenience                                    0.000312  0.229636  0.079793   \n",
       "Information                                      0.115901  0.127405  0.206722   \n",
       "Limited                                          0.106885  0.167973  0.160009   \n",
       "Minutes                                          0.068760  0.021175  0.073901   \n",
       "Password                                         0.027050  0.103202  0.102375   \n",
       "Recently                                         0.100285  0.122712  0.155169   \n",
       "Risk                                             0.110754  0.022294  0.085121   \n",
       "Social                                           0.027247  0.020610  0.019349   \n",
       "Security                                         0.035346  0.237170  0.178466   \n",
       "Service                                          0.113242  0.076579  0.310509   \n",
       "Suspended                                        0.028337  0.114873  0.056917   \n",
       "Total number of Function words/W                 0.072776  0.409819  0.308671   \n",
       "Unique Words                                     0.143075  0.108540  0.261473   \n",
       "Phishing Status                                 -0.105144  0.497483  0.081013   \n",
       "\n",
       "                                      Bank    Credit     Click  Identity  \\\n",
       "Total Number of Characters C      0.191894  0.204276  0.060481  0.042419   \n",
       "Vocabulary richness W/C           0.066452  0.084877  0.054371  0.003991   \n",
       "Account                           0.139401  0.080516  0.088878  0.137322   \n",
       "Access                            0.114669  0.116968  0.096599  0.045184   \n",
       "Bank                              1.000000  0.369442  0.027049  0.047031   \n",
       "Credit                            0.369442  1.000000  0.023917  0.042751   \n",
       "Click                             0.027049  0.023917  1.000000  0.017591   \n",
       "Identity                          0.047031  0.042751  0.017591  1.000000   \n",
       "Inconvenience                     0.023036  0.020260  0.014315  0.046390   \n",
       "Information                       0.108247  0.125355  0.100119  0.076662   \n",
       "Limited                           0.252722  0.351086  0.083914  0.046888   \n",
       "Minutes                           0.032711  0.024523  0.043377  0.007946   \n",
       "Password                          0.007522 -0.001671  0.086355  0.009521   \n",
       "Recently                          0.214060  0.187718  0.020944  0.046700   \n",
       "Risk                              0.202636  0.279082  0.033421  0.007388   \n",
       "Social                            0.043333  0.022006  0.007559  0.022728   \n",
       "Security                          0.111601  0.077355  0.044626  0.077295   \n",
       "Service                           0.213697  0.243998  0.074350  0.055467   \n",
       "Suspended                         0.065849  0.070255  0.024757  0.031660   \n",
       "Total number of Function words/W  0.156501  0.200742  0.276980  0.101277   \n",
       "Unique Words                      0.293280  0.311056  0.120016  0.053712   \n",
       "Phishing Status                   0.124631  0.012774  0.055107  0.147700   \n",
       "\n",
       "                                  Inconvenience  Information   Limited  \\\n",
       "Total Number of Characters C           0.030526     0.185307  0.246313   \n",
       "Vocabulary richness W/C                0.000312     0.115901  0.106885   \n",
       "Account                                0.229636     0.127405  0.167973   \n",
       "Access                                 0.079793     0.206722  0.160009   \n",
       "Bank                                   0.023036     0.108247  0.252722   \n",
       "Credit                                 0.020260     0.125355  0.351086   \n",
       "Click                                  0.014315     0.100119  0.083914   \n",
       "Identity                               0.046390     0.076662  0.046888   \n",
       "Inconvenience                          1.000000     0.030029  0.080864   \n",
       "Information                            0.030029     1.000000  0.190200   \n",
       "Limited                                0.080864     0.190200  1.000000   \n",
       "Minutes                                0.014593     0.056707  0.073684   \n",
       "Password                               0.027340     0.037702  0.017365   \n",
       "Recently                               0.044667     0.177508  0.281431   \n",
       "Risk                                   0.005357     0.139575  0.133351   \n",
       "Social                                 0.001749     0.044645  0.030336   \n",
       "Security                               0.133371     0.150214  0.122529   \n",
       "Service                                0.027418     0.231139  0.286592   \n",
       "Suspended                              0.037234     0.051673  0.101100   \n",
       "Total number of Function words/W       0.146563     0.292002  0.135955   \n",
       "Unique Words                           0.038117     0.303651  0.371636   \n",
       "Phishing Status                        0.174929     0.061520  0.058263   \n",
       "\n",
       "                                   Minutes  Password  Recently      Risk  \\\n",
       "Total Number of Characters C      0.093064  0.006735  0.271126  0.135223   \n",
       "Vocabulary richness W/C           0.068760  0.027050  0.100285  0.110754   \n",
       "Account                           0.021175  0.103202  0.122712  0.022294   \n",
       "Access                            0.073901  0.102375  0.155169  0.085121   \n",
       "Bank                              0.032711  0.007522  0.214060  0.202636   \n",
       "Credit                            0.024523 -0.001671  0.187718  0.279082   \n",
       "Click                             0.043377  0.086355  0.020944  0.033421   \n",
       "Identity                          0.007946  0.009521  0.046700  0.007388   \n",
       "Inconvenience                     0.014593  0.027340  0.044667  0.005357   \n",
       "Information                       0.056707  0.037702  0.177508  0.139575   \n",
       "Limited                           0.073684  0.017365  0.281431  0.133351   \n",
       "Minutes                           1.000000  0.000363  0.054721  0.026294   \n",
       "Password                          0.000363  1.000000  0.009948 -0.001334   \n",
       "Recently                          0.054721  0.009948  1.000000  0.124687   \n",
       "Risk                              0.026294 -0.001334  0.124687  1.000000   \n",
       "Social                            0.011534  0.003996  0.128071  0.028890   \n",
       "Security                          0.023611  0.109842  0.151618  0.048787   \n",
       "Service                           0.059178  0.014693  0.279959  0.112977   \n",
       "Suspended                         0.026900  0.008341  0.085548  0.031199   \n",
       "Total number of Function words/W  0.100717  0.269528  0.084814  0.218126   \n",
       "Unique Words                      0.153513  0.013661  0.409054  0.236722   \n",
       "Phishing Status                   0.010951  0.070248  0.049945 -0.019369   \n",
       "\n",
       "                                    Social  Security   Service  Suspended  \\\n",
       "Total Number of Characters C      0.062420  0.108267  0.259593   0.099211   \n",
       "Vocabulary richness W/C           0.027247  0.035346  0.113242   0.028337   \n",
       "Account                           0.020610  0.237170  0.076579   0.114873   \n",
       "Access                            0.019349  0.178466  0.310509   0.056917   \n",
       "Bank                              0.043333  0.111601  0.213697   0.065849   \n",
       "Credit                            0.022006  0.077355  0.243998   0.070255   \n",
       "Click                             0.007559  0.044626  0.074350   0.024757   \n",
       "Identity                          0.022728  0.077295  0.055467   0.031660   \n",
       "Inconvenience                     0.001749  0.133371  0.027418   0.037234   \n",
       "Information                       0.044645  0.150214  0.231139   0.051673   \n",
       "Limited                           0.030336  0.122529  0.286592   0.101100   \n",
       "Minutes                           0.011534  0.023611  0.059178   0.026900   \n",
       "Password                          0.003996  0.109842  0.014693   0.008341   \n",
       "Recently                          0.128071  0.151618  0.279959   0.085548   \n",
       "Risk                              0.028890  0.048787  0.112977   0.031199   \n",
       "Social                            1.000000  0.324573  0.055777   0.020886   \n",
       "Security                          0.324573  1.000000  0.150242   0.056373   \n",
       "Service                           0.055777  0.150242  1.000000   0.092223   \n",
       "Suspended                         0.020886  0.056373  0.092223   1.000000   \n",
       "Total number of Function words/W  0.044555  0.269612  0.156978   0.079803   \n",
       "Unique Words                      0.099018  0.163471  0.404571   0.140697   \n",
       "Phishing Status                   0.006355  0.185545  0.023631   0.095063   \n",
       "\n",
       "                                  Total number of Function words/W  \\\n",
       "Total Number of Characters C                              0.008601   \n",
       "Vocabulary richness W/C                                   0.072776   \n",
       "Account                                                   0.409819   \n",
       "Access                                                    0.308671   \n",
       "Bank                                                      0.156501   \n",
       "Credit                                                    0.200742   \n",
       "Click                                                     0.276980   \n",
       "Identity                                                  0.101277   \n",
       "Inconvenience                                             0.146563   \n",
       "Information                                               0.292002   \n",
       "Limited                                                   0.135955   \n",
       "Minutes                                                   0.100717   \n",
       "Password                                                  0.269528   \n",
       "Recently                                                  0.084814   \n",
       "Risk                                                      0.218126   \n",
       "Social                                                    0.044555   \n",
       "Security                                                  0.269612   \n",
       "Service                                                   0.156978   \n",
       "Suspended                                                 0.079803   \n",
       "Total number of Function words/W                          1.000000   \n",
       "Unique Words                                              0.025764   \n",
       "Phishing Status                                           0.288569   \n",
       "\n",
       "                                  Unique Words  Phishing Status  \n",
       "Total Number of Characters C          0.778506         0.051091  \n",
       "Vocabulary richness W/C               0.143075        -0.105144  \n",
       "Account                               0.108540         0.497483  \n",
       "Access                                0.261473         0.081013  \n",
       "Bank                                  0.293280         0.124631  \n",
       "Credit                                0.311056         0.012774  \n",
       "Click                                 0.120016         0.055107  \n",
       "Identity                              0.053712         0.147700  \n",
       "Inconvenience                         0.038117         0.174929  \n",
       "Information                           0.303651         0.061520  \n",
       "Limited                               0.371636         0.058263  \n",
       "Minutes                               0.153513         0.010951  \n",
       "Password                              0.013661         0.070248  \n",
       "Recently                              0.409054         0.049945  \n",
       "Risk                                  0.236722        -0.019369  \n",
       "Social                                0.099018         0.006355  \n",
       "Security                              0.163471         0.185545  \n",
       "Service                               0.404571         0.023631  \n",
       "Suspended                             0.140697         0.095063  \n",
       "Total number of Function words/W      0.025764         0.288569  \n",
       "Unique Words                          1.000000         0.018325  \n",
       "Phishing Status                       0.018325         1.000000  "
      ]
     },
     "execution_count": 13,
     "metadata": {},
     "output_type": "execute_result"
    }
   ],
   "source": [
    "df.corr()"
   ]
  },
  {
   "cell_type": "code",
   "execution_count": 14,
   "id": "60607028",
   "metadata": {},
   "outputs": [
    {
     "data": {
      "text/plain": [
       "<AxesSubplot:>"
      ]
     },
     "execution_count": 14,
     "metadata": {},
     "output_type": "execute_result"
    },
    {
     "data": {
      "image/png": "[encoded data removed]",
      "text/plain": [
       "<Figure size 1080x576 with 2 Axes>"
      ]
     },
     "metadata": {
      "needs_background": "light"
     },
     "output_type": "display_data"
    }
   ],
   "source": [
    "plt.figure(figsize=(15,8))\n",
    "sns.heatmap(df.corr(),annot=True )"
   ]
  },
  {
   "cell_type": "code",
   "execution_count": 15,
   "id": "5dd22590",
   "metadata": {},
   "outputs": [
    {
     "name": "stderr",
     "output_type": "stream",
     "text": [
      "C:\\ProgramData\\Anaconda3\\lib\\site-packages\\seaborn\\_decorators.py:36: FutureWarning: Pass the following variable as a keyword arg: x. From version 0.12, the only valid positional argument will be `data`, and passing other arguments without an explicit keyword will result in an error or misinterpretation.\n",
      "  warnings.warn(\n"
     ]
    },
    {
     "data": {
      "text/plain": [
       "<AxesSubplot:xlabel='Phishing Status', ylabel='count'>"
      ]
     },
     "execution_count": 15,
     "metadata": {},
     "output_type": "execute_result"
    },
    {
     "data": {
      "image/png": "[encoded data removed]",
      "text/plain": [
       "<Figure size 432x288 with 1 Axes>"
      ]
     },
     "metadata": {
      "needs_background": "light"
     },
     "output_type": "display_data"
    }
   ],
   "source": [
    "sns.countplot(df['Phishing Status']) # This data is imbalanced Dataset"
   ]
  },
  {
   "cell_type": "code",
   "execution_count": 16,
   "id": "cbfc5bcc",
   "metadata": {},
   "outputs": [
    {
     "data": {
      "text/plain": [
       "Index(['Total Number of Characters C', 'Vocabulary richness W/C', 'Account',\n",
       "       'Access', 'Bank', 'Credit', 'Click', 'Identity', 'Inconvenience',\n",
       "       'Information', 'Limited', 'Minutes', 'Password', 'Recently', 'Risk',\n",
       "       'Social', 'Security', 'Service', 'Suspended',\n",
       "       'Total number of Function words/W', 'Unique Words', 'Phishing Status'],\n",
       "      dtype='object')"
      ]
     },
     "execution_count": 16,
     "metadata": {},
     "output_type": "execute_result"
    }
   ],
   "source": [
    "df.keys()"
   ]
  },
  {
   "cell_type": "code",
   "execution_count": 17,
   "id": "c7fe8bbf",
   "metadata": {},
   "outputs": [
    {
     "data": {
      "text/plain": [
       "<AxesSubplot:xlabel='Click', ylabel='count'>"
      ]
     },
     "execution_count": 17,
     "metadata": {},
     "output_type": "execute_result"
    },
    {
     "data": {
      "image/png": "[encoded data removed]",
      "text/plain": [
       "<Figure size 864x576 with 1 Axes>"
      ]
     },
     "metadata": {
      "needs_background": "light"
     },
     "output_type": "display_data"
    }
   ],
   "source": [
    "plt.figure(figsize=(12,8))\n",
    "sns.countplot(x = 'Click', hue='Phishing Status', data = df)"
   ]
  },
  {
   "cell_type": "code",
   "execution_count": 18,
   "id": "145c9d11",
   "metadata": {},
   "outputs": [
    {
     "data": {
      "text/plain": [
       "<AxesSubplot:xlabel='Suspended', ylabel='count'>"
      ]
     },
     "execution_count": 18,
     "metadata": {},
     "output_type": "execute_result"
    },
    {
     "data": {
      "image/png": "[encoded data removed]",
      "text/plain": [
       "<Figure size 864x576 with 1 Axes>"
      ]
     },
     "metadata": {
      "needs_background": "light"
     },
     "output_type": "display_data"
    }
   ],
   "source": [
    "plt.figure(figsize=(12,8))\n",
    "sns.countplot(x = 'Suspended', hue='Phishing Status', data = df)"
   ]
  },
  {
   "cell_type": "code",
   "execution_count": null,
   "id": "265e9bc7",
   "metadata": {},
   "outputs": [],
   "source": []
  },
  {
   "cell_type": "markdown",
   "id": "a1449934",
   "metadata": {},
   "source": [
    "# Task:2"
   ]
  },
  {
   "cell_type": "code",
   "execution_count": 19,
   "id": "aa389b87",
   "metadata": {},
   "outputs": [],
   "source": [
    "# seperate x, y"
   ]
  },
  {
   "cell_type": "code",
   "execution_count": 20,
   "id": "742b0316",
   "metadata": {},
   "outputs": [],
   "source": [
    "x = df.drop('Phishing Status',axis=1)\n",
    "y = df['Phishing Status']"
   ]
  },
  {
   "cell_type": "code",
   "execution_count": 21,
   "id": "07047818",
   "metadata": {},
   "outputs": [
    {
     "data": {
      "text/plain": [
       "(451085, 21)"
      ]
     },
     "execution_count": 21,
     "metadata": {},
     "output_type": "execute_result"
    }
   ],
   "source": [
    "x.shape"
   ]
  },
  {
   "cell_type": "code",
   "execution_count": 22,
   "id": "b5adaf9a",
   "metadata": {
    "scrolled": true
   },
   "outputs": [
    {
     "data": {
      "text/plain": [
       "(451085,)"
      ]
     },
     "execution_count": 22,
     "metadata": {},
     "output_type": "execute_result"
    }
   ],
   "source": [
    "y.shape"
   ]
  },
  {
   "cell_type": "code",
   "execution_count": 23,
   "id": "f2c85ca6",
   "metadata": {
    "scrolled": true
   },
   "outputs": [
    {
     "data": {
      "text/plain": [
       "0    442845\n",
       "1      8240\n",
       "Name: Phishing Status, dtype: int64"
      ]
     },
     "execution_count": 23,
     "metadata": {},
     "output_type": "execute_result"
    }
   ],
   "source": [
    "df['Phishing Status'].value_counts()"
   ]
  },
  {
   "cell_type": "code",
   "execution_count": 24,
   "id": "f30f11ba",
   "metadata": {},
   "outputs": [],
   "source": [
    "yes = (442845/(442845+8240)*100)\n",
    "no = (8240/(442845+8240)*100)"
   ]
  },
  {
   "cell_type": "code",
   "execution_count": 25,
   "id": "a02e8c41",
   "metadata": {
    "scrolled": true
   },
   "outputs": [
    {
     "name": "stdout",
     "output_type": "stream",
     "text": [
      "Phishing Status 0  98.173293281754 \n",
      "Phishing Status 1  1.8267067182460068 \n"
     ]
    }
   ],
   "source": [
    "print(\"Phishing Status 0  {} \".format(yes))\n",
    "print(\"Phishing Status 1  {} \".format(no))"
   ]
  },
  {
   "cell_type": "markdown",
   "id": "5b37ec30",
   "metadata": {},
   "source": [
    "# Imbalanced Data Handling"
   ]
  },
  {
   "cell_type": "code",
   "execution_count": 26,
   "id": "f6f110c1",
   "metadata": {
    "scrolled": false
   },
   "outputs": [
    {
     "name": "stdout",
     "output_type": "stream",
     "text": [
      "Requirement already satisfied: imblearn in c:\\programdata\\anaconda3\\lib\\site-packages (0.0)\n",
      "Requirement already satisfied: imbalanced-learn in c:\\programdata\\anaconda3\\lib\\site-packages (from imblearn) (0.9.1)\n",
      "Requirement already satisfied: scikit-learn>=1.1.0 in c:\\programdata\\anaconda3\\lib\\site-packages (from imbalanced-learn->imblearn) (1.1.1)\n",
      "Requirement already satisfied: scipy>=1.3.2 in c:\\programdata\\anaconda3\\lib\\site-packages (from imbalanced-learn->imblearn) (1.7.1)\n",
      "Requirement already satisfied: threadpoolctl>=2.0.0 in c:\\programdata\\anaconda3\\lib\\site-packages (from imbalanced-learn->imblearn) (2.2.0)\n",
      "Requirement already satisfied: numpy>=1.17.3 in c:\\programdata\\anaconda3\\lib\\site-packages (from imbalanced-learn->imblearn) (1.20.3)\n",
      "Requirement already satisfied: joblib>=1.0.0 in c:\\programdata\\anaconda3\\lib\\site-packages (from imbalanced-learn->imblearn) (1.1.0)\n"
     ]
    },
    {
     "name": "stderr",
     "output_type": "stream",
     "text": [
      "WARNING: Ignoring invalid distribution -ikit-learn (c:\\programdata\\anaconda3\\lib\\site-packages)\n",
      "WARNING: Ignoring invalid distribution -5ikit-learn (c:\\programdata\\anaconda3\\lib\\site-packages)\n",
      "WARNING: Ignoring invalid distribution -4ikit-learn (c:\\programdata\\anaconda3\\lib\\site-packages)\n",
      "WARNING: Ignoring invalid distribution -3ikit-learn (c:\\programdata\\anaconda3\\lib\\site-packages)\n",
      "WARNING: Ignoring invalid distribution -2ikit-learn (c:\\programdata\\anaconda3\\lib\\site-packages)\n",
      "WARNING: Ignoring invalid distribution -1ikit-learn (c:\\programdata\\anaconda3\\lib\\site-packages)\n",
      "WARNING: Ignoring invalid distribution -ikit-learn (c:\\programdata\\anaconda3\\lib\\site-packages)\n",
      "WARNING: Ignoring invalid distribution -0ikit-learn (c:\\programdata\\anaconda3\\lib\\site-packages)\n",
      "WARNING: Ignoring invalid distribution - (c:\\programdata\\anaconda3\\lib\\site-packages)\n",
      "WARNING: Ignoring invalid distribution -cikit-learn (c:\\programdata\\anaconda3\\lib\\site-packages)\n",
      "WARNING: Ignoring invalid distribution -arkupsafe (c:\\programdata\\anaconda3\\lib\\site-packages)\n",
      "WARNING: Ignoring invalid distribution -ikit-learn (c:\\programdata\\anaconda3\\lib\\site-packages)\n",
      "WARNING: Ignoring invalid distribution -5ikit-learn (c:\\programdata\\anaconda3\\lib\\site-packages)\n",
      "WARNING: Ignoring invalid distribution -4ikit-learn (c:\\programdata\\anaconda3\\lib\\site-packages)\n",
      "WARNING: Ignoring invalid distribution -3ikit-learn (c:\\programdata\\anaconda3\\lib\\site-packages)\n",
      "WARNING: Ignoring invalid distribution -2ikit-learn (c:\\programdata\\anaconda3\\lib\\site-packages)\n",
      "WARNING: Ignoring invalid distribution -1ikit-learn (c:\\programdata\\anaconda3\\lib\\site-packages)\n",
      "WARNING: Ignoring invalid distribution -ikit-learn (c:\\programdata\\anaconda3\\lib\\site-packages)\n",
      "WARNING: Ignoring invalid distribution -0ikit-learn (c:\\programdata\\anaconda3\\lib\\site-packages)\n",
      "WARNING: Ignoring invalid distribution - (c:\\programdata\\anaconda3\\lib\\site-packages)\n",
      "WARNING: Ignoring invalid distribution -cikit-learn (c:\\programdata\\anaconda3\\lib\\site-packages)\n",
      "WARNING: Ignoring invalid distribution -arkupsafe (c:\\programdata\\anaconda3\\lib\\site-packages)\n",
      "WARNING: Ignoring invalid distribution -ikit-learn (c:\\programdata\\anaconda3\\lib\\site-packages)\n",
      "WARNING: Ignoring invalid distribution -5ikit-learn (c:\\programdata\\anaconda3\\lib\\site-packages)\n",
      "WARNING: Ignoring invalid distribution -4ikit-learn (c:\\programdata\\anaconda3\\lib\\site-packages)\n",
      "WARNING: Ignoring invalid distribution -3ikit-learn (c:\\programdata\\anaconda3\\lib\\site-packages)\n",
      "WARNING: Ignoring invalid distribution -2ikit-learn (c:\\programdata\\anaconda3\\lib\\site-packages)\n",
      "WARNING: Ignoring invalid distribution -1ikit-learn (c:\\programdata\\anaconda3\\lib\\site-packages)\n",
      "WARNING: Ignoring invalid distribution -ikit-learn (c:\\programdata\\anaconda3\\lib\\site-packages)\n",
      "WARNING: Ignoring invalid distribution -0ikit-learn (c:\\programdata\\anaconda3\\lib\\site-packages)\n",
      "WARNING: Ignoring invalid distribution - (c:\\programdata\\anaconda3\\lib\\site-packages)\n",
      "WARNING: Ignoring invalid distribution -cikit-learn (c:\\programdata\\anaconda3\\lib\\site-packages)\n",
      "WARNING: Ignoring invalid distribution -arkupsafe (c:\\programdata\\anaconda3\\lib\\site-packages)\n",
      "WARNING: Ignoring invalid distribution -ikit-learn (c:\\programdata\\anaconda3\\lib\\site-packages)\n",
      "WARNING: Ignoring invalid distribution -5ikit-learn (c:\\programdata\\anaconda3\\lib\\site-packages)\n",
      "WARNING: Ignoring invalid distribution -4ikit-learn (c:\\programdata\\anaconda3\\lib\\site-packages)\n",
      "WARNING: Ignoring invalid distribution -3ikit-learn (c:\\programdata\\anaconda3\\lib\\site-packages)\n",
      "WARNING: Ignoring invalid distribution -2ikit-learn (c:\\programdata\\anaconda3\\lib\\site-packages)\n",
      "WARNING: Ignoring invalid distribution -1ikit-learn (c:\\programdata\\anaconda3\\lib\\site-packages)\n",
      "WARNING: Ignoring invalid distribution -ikit-learn (c:\\programdata\\anaconda3\\lib\\site-packages)\n",
      "WARNING: Ignoring invalid distribution -0ikit-learn (c:\\programdata\\anaconda3\\lib\\site-packages)\n",
      "WARNING: Ignoring invalid distribution - (c:\\programdata\\anaconda3\\lib\\site-packages)\n",
      "WARNING: Ignoring invalid distribution -cikit-learn (c:\\programdata\\anaconda3\\lib\\site-packages)\n",
      "WARNING: Ignoring invalid distribution -arkupsafe (c:\\programdata\\anaconda3\\lib\\site-packages)\n",
      "WARNING: Ignoring invalid distribution -ikit-learn (c:\\programdata\\anaconda3\\lib\\site-packages)\n",
      "WARNING: Ignoring invalid distribution -5ikit-learn (c:\\programdata\\anaconda3\\lib\\site-packages)\n",
      "WARNING: Ignoring invalid distribution -4ikit-learn (c:\\programdata\\anaconda3\\lib\\site-packages)\n",
      "WARNING: Ignoring invalid distribution -3ikit-learn (c:\\programdata\\anaconda3\\lib\\site-packages)\n",
      "WARNING: Ignoring invalid distribution -2ikit-learn (c:\\programdata\\anaconda3\\lib\\site-packages)\n",
      "WARNING: Ignoring invalid distribution -1ikit-learn (c:\\programdata\\anaconda3\\lib\\site-packages)\n",
      "WARNING: Ignoring invalid distribution -ikit-learn (c:\\programdata\\anaconda3\\lib\\site-packages)\n",
      "WARNING: Ignoring invalid distribution -0ikit-learn (c:\\programdata\\anaconda3\\lib\\site-packages)\n",
      "WARNING: Ignoring invalid distribution - (c:\\programdata\\anaconda3\\lib\\site-packages)\n",
      "WARNING: Ignoring invalid distribution -cikit-learn (c:\\programdata\\anaconda3\\lib\\site-packages)\n",
      "WARNING: Ignoring invalid distribution -arkupsafe (c:\\programdata\\anaconda3\\lib\\site-packages)\n",
      "WARNING: Ignoring invalid distribution -ikit-learn (c:\\programdata\\anaconda3\\lib\\site-packages)\n",
      "WARNING: Ignoring invalid distribution -5ikit-learn (c:\\programdata\\anaconda3\\lib\\site-packages)\n",
      "WARNING: Ignoring invalid distribution -4ikit-learn (c:\\programdata\\anaconda3\\lib\\site-packages)\n",
      "WARNING: Ignoring invalid distribution -3ikit-learn (c:\\programdata\\anaconda3\\lib\\site-packages)\n",
      "WARNING: Ignoring invalid distribution -2ikit-learn (c:\\programdata\\anaconda3\\lib\\site-packages)\n",
      "WARNING: Ignoring invalid distribution -1ikit-learn (c:\\programdata\\anaconda3\\lib\\site-packages)\n",
      "WARNING: Ignoring invalid distribution -ikit-learn (c:\\programdata\\anaconda3\\lib\\site-packages)\n",
      "WARNING: Ignoring invalid distribution -0ikit-learn (c:\\programdata\\anaconda3\\lib\\site-packages)\n",
      "WARNING: Ignoring invalid distribution - (c:\\programdata\\anaconda3\\lib\\site-packages)\n",
      "WARNING: Ignoring invalid distribution -cikit-learn (c:\\programdata\\anaconda3\\lib\\site-packages)\n",
      "WARNING: Ignoring invalid distribution -arkupsafe (c:\\programdata\\anaconda3\\lib\\site-packages)\n"
     ]
    }
   ],
   "source": [
    "!pip install imblearn"
   ]
  },
  {
   "cell_type": "code",
   "execution_count": 27,
   "id": "0087bbeb",
   "metadata": {},
   "outputs": [],
   "source": [
    "from imblearn.combine import SMOTETomek"
   ]
  },
  {
   "cell_type": "code",
   "execution_count": 28,
   "id": "f6da558e",
   "metadata": {},
   "outputs": [],
   "source": [
    "sm = SMOTETomek(random_state=1)"
   ]
  },
  {
   "cell_type": "markdown",
   "id": "e815d5f3",
   "metadata": {},
   "source": [
    "# Under Sampling "
   ]
  },
  {
   "cell_type": "code",
   "execution_count": 29,
   "id": "1ab8fc9c",
   "metadata": {},
   "outputs": [],
   "source": [
    "from imblearn.under_sampling import NearMiss"
   ]
  },
  {
   "cell_type": "code",
   "execution_count": 30,
   "id": "04f27f1a",
   "metadata": {},
   "outputs": [],
   "source": [
    "NearMiss = NearMiss()"
   ]
  },
  {
   "cell_type": "code",
   "execution_count": 31,
   "id": "25d4384d",
   "metadata": {},
   "outputs": [],
   "source": [
    "x1 , y1 = NearMiss.fit_resample(x,y)"
   ]
  },
  {
   "cell_type": "code",
   "execution_count": 32,
   "id": "93b2b96a",
   "metadata": {},
   "outputs": [
    {
     "data": {
      "text/plain": [
       "0    8240\n",
       "1    8240\n",
       "Name: Phishing Status, dtype: int64"
      ]
     },
     "execution_count": 32,
     "metadata": {},
     "output_type": "execute_result"
    }
   ],
   "source": [
    "y1.value_counts()"
   ]
  },
  {
   "cell_type": "code",
   "execution_count": 33,
   "id": "c887d6ee",
   "metadata": {},
   "outputs": [
    {
     "name": "stderr",
     "output_type": "stream",
     "text": [
      "C:\\ProgramData\\Anaconda3\\lib\\site-packages\\seaborn\\_decorators.py:36: FutureWarning: Pass the following variable as a keyword arg: x. From version 0.12, the only valid positional argument will be `data`, and passing other arguments without an explicit keyword will result in an error or misinterpretation.\n",
      "  warnings.warn(\n"
     ]
    },
    {
     "data": {
      "image/png": "[encoded data removed]",
      "text/plain": [
       "<Figure size 432x288 with 1 Axes>"
      ]
     },
     "metadata": {
      "needs_background": "light"
     },
     "output_type": "display_data"
    }
   ],
   "source": [
    "sns.countplot(y1)\n",
    "plt.show()"
   ]
  },
  {
   "cell_type": "markdown",
   "id": "5506c6cb",
   "metadata": {},
   "source": [
    "# Over Sampling"
   ]
  },
  {
   "cell_type": "code",
   "execution_count": 34,
   "id": "3159f396",
   "metadata": {},
   "outputs": [],
   "source": [
    "df2 = df.copy()"
   ]
  },
  {
   "cell_type": "code",
   "execution_count": 35,
   "id": "95b8969d",
   "metadata": {},
   "outputs": [
    {
     "data": {
      "text/html": [
       "<div>\n",
       "<style scoped>\n",
       "    .dataframe tbody tr th:only-of-type {\n",
       "        vertical-align: middle;\n",
       "    }\n",
       "\n",
       "    .dataframe tbody tr th {\n",
       "        vertical-align: top;\n",
       "    }\n",
       "\n",
       "    .dataframe thead th {\n",
       "        text-align: right;\n",
       "    }\n",
       "</style>\n",
       "<table border=\"1\" class=\"dataframe\">\n",
       "  <thead>\n",
       "    <tr style=\"text-align: right;\">\n",
       "      <th></th>\n",
       "      <th>Total Number of Characters C</th>\n",
       "      <th>Vocabulary richness W/C</th>\n",
       "      <th>Account</th>\n",
       "      <th>Access</th>\n",
       "      <th>Bank</th>\n",
       "      <th>Credit</th>\n",
       "      <th>Click</th>\n",
       "      <th>Identity</th>\n",
       "      <th>Inconvenience</th>\n",
       "      <th>Information</th>\n",
       "      <th>Limited</th>\n",
       "      <th>Minutes</th>\n",
       "      <th>Password</th>\n",
       "      <th>Recently</th>\n",
       "      <th>Risk</th>\n",
       "      <th>Social</th>\n",
       "      <th>Security</th>\n",
       "      <th>Service</th>\n",
       "      <th>Suspended</th>\n",
       "      <th>Total number of Function words/W</th>\n",
       "      <th>Unique Words</th>\n",
       "      <th>Phishing Status</th>\n",
       "    </tr>\n",
       "  </thead>\n",
       "  <tbody>\n",
       "    <tr>\n",
       "      <th>0</th>\n",
       "      <td>1673</td>\n",
       "      <td>0.128512</td>\n",
       "      <td>2</td>\n",
       "      <td>0</td>\n",
       "      <td>0</td>\n",
       "      <td>0</td>\n",
       "      <td>1</td>\n",
       "      <td>0</td>\n",
       "      <td>0</td>\n",
       "      <td>1</td>\n",
       "      <td>0</td>\n",
       "      <td>0</td>\n",
       "      <td>1</td>\n",
       "      <td>1</td>\n",
       "      <td>0</td>\n",
       "      <td>0</td>\n",
       "      <td>0</td>\n",
       "      <td>0</td>\n",
       "      <td>0</td>\n",
       "      <td>0.027907</td>\n",
       "      <td>132</td>\n",
       "      <td>1</td>\n",
       "    </tr>\n",
       "    <tr>\n",
       "      <th>1</th>\n",
       "      <td>4465</td>\n",
       "      <td>0.137738</td>\n",
       "      <td>0</td>\n",
       "      <td>0</td>\n",
       "      <td>0</td>\n",
       "      <td>0</td>\n",
       "      <td>0</td>\n",
       "      <td>0</td>\n",
       "      <td>0</td>\n",
       "      <td>4</td>\n",
       "      <td>0</td>\n",
       "      <td>0</td>\n",
       "      <td>0</td>\n",
       "      <td>0</td>\n",
       "      <td>0</td>\n",
       "      <td>0</td>\n",
       "      <td>3</td>\n",
       "      <td>1</td>\n",
       "      <td>0</td>\n",
       "      <td>0.013008</td>\n",
       "      <td>338</td>\n",
       "      <td>1</td>\n",
       "    </tr>\n",
       "    <tr>\n",
       "      <th>2</th>\n",
       "      <td>6813</td>\n",
       "      <td>0.095993</td>\n",
       "      <td>0</td>\n",
       "      <td>0</td>\n",
       "      <td>0</td>\n",
       "      <td>2</td>\n",
       "      <td>0</td>\n",
       "      <td>0</td>\n",
       "      <td>0</td>\n",
       "      <td>2</td>\n",
       "      <td>0</td>\n",
       "      <td>0</td>\n",
       "      <td>0</td>\n",
       "      <td>0</td>\n",
       "      <td>0</td>\n",
       "      <td>0</td>\n",
       "      <td>0</td>\n",
       "      <td>0</td>\n",
       "      <td>0</td>\n",
       "      <td>0.006116</td>\n",
       "      <td>292</td>\n",
       "      <td>1</td>\n",
       "    </tr>\n",
       "    <tr>\n",
       "      <th>3</th>\n",
       "      <td>1518</td>\n",
       "      <td>0.109354</td>\n",
       "      <td>0</td>\n",
       "      <td>0</td>\n",
       "      <td>0</td>\n",
       "      <td>1</td>\n",
       "      <td>1</td>\n",
       "      <td>0</td>\n",
       "      <td>0</td>\n",
       "      <td>0</td>\n",
       "      <td>0</td>\n",
       "      <td>0</td>\n",
       "      <td>0</td>\n",
       "      <td>0</td>\n",
       "      <td>0</td>\n",
       "      <td>0</td>\n",
       "      <td>0</td>\n",
       "      <td>0</td>\n",
       "      <td>0</td>\n",
       "      <td>0.012048</td>\n",
       "      <td>102</td>\n",
       "      <td>1</td>\n",
       "    </tr>\n",
       "    <tr>\n",
       "      <th>4</th>\n",
       "      <td>1881</td>\n",
       "      <td>0.126528</td>\n",
       "      <td>7</td>\n",
       "      <td>3</td>\n",
       "      <td>0</td>\n",
       "      <td>0</td>\n",
       "      <td>0</td>\n",
       "      <td>1</td>\n",
       "      <td>0</td>\n",
       "      <td>2</td>\n",
       "      <td>0</td>\n",
       "      <td>0</td>\n",
       "      <td>0</td>\n",
       "      <td>0</td>\n",
       "      <td>0</td>\n",
       "      <td>0</td>\n",
       "      <td>0</td>\n",
       "      <td>0</td>\n",
       "      <td>2</td>\n",
       "      <td>0.063025</td>\n",
       "      <td>136</td>\n",
       "      <td>1</td>\n",
       "    </tr>\n",
       "  </tbody>\n",
       "</table>\n",
       "</div>"
      ],
      "text/plain": [
       "   Total Number of Characters C  Vocabulary richness W/C  Account  Access  \\\n",
       "0                          1673                 0.128512        2       0   \n",
       "1                          4465                 0.137738        0       0   \n",
       "2                          6813                 0.095993        0       0   \n",
       "3                          1518                 0.109354        0       0   \n",
       "4                          1881                 0.126528        7       3   \n",
       "\n",
       "   Bank  Credit  Click  Identity  Inconvenience  Information  Limited  \\\n",
       "0     0       0      1         0              0            1        0   \n",
       "1     0       0      0         0              0            4        0   \n",
       "2     0       2      0         0              0            2        0   \n",
       "3     0       1      1         0              0            0        0   \n",
       "4     0       0      0         1              0            2        0   \n",
       "\n",
       "   Minutes  Password  Recently  Risk  Social  Security  Service  Suspended  \\\n",
       "0        0         1         1     0       0         0        0          0   \n",
       "1        0         0         0     0       0         3        1          0   \n",
       "2        0         0         0     0       0         0        0          0   \n",
       "3        0         0         0     0       0         0        0          0   \n",
       "4        0         0         0     0       0         0        0          2   \n",
       "\n",
       "   Total number of Function words/W  Unique Words  Phishing Status  \n",
       "0                          0.027907           132                1  \n",
       "1                          0.013008           338                1  \n",
       "2                          0.006116           292                1  \n",
       "3                          0.012048           102                1  \n",
       "4                          0.063025           136                1  "
      ]
     },
     "execution_count": 35,
     "metadata": {},
     "output_type": "execute_result"
    }
   ],
   "source": [
    "df2.head()"
   ]
  },
  {
   "cell_type": "code",
   "execution_count": 36,
   "id": "31161982",
   "metadata": {},
   "outputs": [
    {
     "data": {
      "text/plain": [
       "0    442845\n",
       "1      8240\n",
       "Name: Phishing Status, dtype: int64"
      ]
     },
     "execution_count": 36,
     "metadata": {},
     "output_type": "execute_result"
    }
   ],
   "source": [
    "df2['Phishing Status'].value_counts()"
   ]
  },
  {
   "cell_type": "code",
   "execution_count": 37,
   "id": "98b18ba7",
   "metadata": {},
   "outputs": [],
   "source": [
    "from imblearn.over_sampling import RandomOverSampler"
   ]
  },
  {
   "cell_type": "code",
   "execution_count": 38,
   "id": "7832a665",
   "metadata": {},
   "outputs": [],
   "source": [
    "oversm = RandomOverSampler(random_state=100)"
   ]
  },
  {
   "cell_type": "code",
   "execution_count": 39,
   "id": "9986ae40",
   "metadata": {},
   "outputs": [],
   "source": [
    "x_new , y_new = oversm.fit_resample(x,y)"
   ]
  },
  {
   "cell_type": "code",
   "execution_count": 40,
   "id": "7bdc1625",
   "metadata": {},
   "outputs": [
    {
     "data": {
      "text/plain": [
       "(885690, 21)"
      ]
     },
     "execution_count": 40,
     "metadata": {},
     "output_type": "execute_result"
    }
   ],
   "source": [
    "x_new.shape"
   ]
  },
  {
   "cell_type": "code",
   "execution_count": 41,
   "id": "2efc86e6",
   "metadata": {},
   "outputs": [
    {
     "data": {
      "text/plain": [
       "1    442845\n",
       "0    442845\n",
       "Name: Phishing Status, dtype: int64"
      ]
     },
     "execution_count": 41,
     "metadata": {},
     "output_type": "execute_result"
    }
   ],
   "source": [
    "y_new.value_counts()"
   ]
  },
  {
   "cell_type": "markdown",
   "id": "51c750b2",
   "metadata": {},
   "source": [
    "# Cross Validation"
   ]
  },
  {
   "cell_type": "code",
   "execution_count": 42,
   "id": "a81a350a",
   "metadata": {},
   "outputs": [],
   "source": [
    "# Hold Out Cross Validation\n",
    "from sklearn.model_selection import train_test_split"
   ]
  },
  {
   "cell_type": "code",
   "execution_count": 43,
   "id": "c3197feb",
   "metadata": {},
   "outputs": [],
   "source": [
    "xtrain,xtest,ytrain,ytest = train_test_split(x_new,y_new, train_size=70, random_state=47)"
   ]
  },
  {
   "cell_type": "code",
   "execution_count": 44,
   "id": "4d7775f8",
   "metadata": {},
   "outputs": [],
   "source": [
    "from sklearn.tree import DecisionTreeClassifier"
   ]
  },
  {
   "cell_type": "code",
   "execution_count": 45,
   "id": "33b12320",
   "metadata": {},
   "outputs": [],
   "source": [
    "clf = DecisionTreeClassifier()"
   ]
  },
  {
   "cell_type": "code",
   "execution_count": 46,
   "id": "e0cf5dd9",
   "metadata": {},
   "outputs": [
    {
     "data": {
      "text/html": [
       "<style>#sk-container-id-1 {color: black;background-color: white;}#sk-container-id-1 pre{padding: 0;}#sk-container-id-1 div.sk-toggleable {background-color: white;}#sk-container-id-1 label.sk-toggleable__label {cursor: pointer;display: block;width: 100%;margin-bottom: 0;padding: 0.3em;box-sizing: border-box;text-align: center;}#sk-container-id-1 label.sk-toggleable__label-arrow:before {content: \"▸\";float: left;margin-right: 0.25em;color: #696969;}#sk-container-id-1 label.sk-toggleable__label-arrow:hover:before {color: black;}#sk-container-id-1 div.sk-estimator:hover label.sk-toggleable__label-arrow:before {color: black;}#sk-container-id-1 div.sk-toggleable__content {max-height: 0;max-width: 0;overflow: hidden;text-align: left;background-color: #f0f8ff;}#sk-container-id-1 div.sk-toggleable__content pre {margin: 0.2em;color: black;border-radius: 0.25em;background-color: #f0f8ff;}#sk-container-id-1 input.sk-toggleable__control:checked~div.sk-toggleable__content {max-height: 200px;max-width: 100%;overflow: auto;}#sk-container-id-1 input.sk-toggleable__control:checked~label.sk-toggleable__label-arrow:before {content: \"▾\";}#sk-container-id-1 div.sk-estimator input.sk-toggleable__control:checked~label.sk-toggleable__label {background-color: #d4ebff;}#sk-container-id-1 div.sk-label input.sk-toggleable__control:checked~label.sk-toggleable__label {background-color: #d4ebff;}#sk-container-id-1 input.sk-hidden--visually {border: 0;clip: rect(1px 1px 1px 1px);clip: rect(1px, 1px, 1px, 1px);height: 1px;margin: -1px;overflow: hidden;padding: 0;position: absolute;width: 1px;}#sk-container-id-1 div.sk-estimator {font-family: monospace;background-color: #f0f8ff;border: 1px dotted black;border-radius: 0.25em;box-sizing: border-box;margin-bottom: 0.5em;}#sk-container-id-1 div.sk-estimator:hover {background-color: #d4ebff;}#sk-container-id-1 div.sk-parallel-item::after {content: \"\";width: 100%;border-bottom: 1px solid gray;flex-grow: 1;}#sk-container-id-1 div.sk-label:hover label.sk-toggleable__label {background-color: #d4ebff;}#sk-container-id-1 div.sk-serial::before {content: \"\";position: absolute;border-left: 1px solid gray;box-sizing: border-box;top: 0;bottom: 0;left: 50%;z-index: 0;}#sk-container-id-1 div.sk-serial {display: flex;flex-direction: column;align-items: center;background-color: white;padding-right: 0.2em;padding-left: 0.2em;position: relative;}#sk-container-id-1 div.sk-item {position: relative;z-index: 1;}#sk-container-id-1 div.sk-parallel {display: flex;align-items: stretch;justify-content: center;background-color: white;position: relative;}#sk-container-id-1 div.sk-item::before, #sk-container-id-1 div.sk-parallel-item::before {content: \"\";position: absolute;border-left: 1px solid gray;box-sizing: border-box;top: 0;bottom: 0;left: 50%;z-index: -1;}#sk-container-id-1 div.sk-parallel-item {display: flex;flex-direction: column;z-index: 1;position: relative;background-color: white;}#sk-container-id-1 div.sk-parallel-item:first-child::after {align-self: flex-end;width: 50%;}#sk-container-id-1 div.sk-parallel-item:last-child::after {align-self: flex-start;width: 50%;}#sk-container-id-1 div.sk-parallel-item:only-child::after {width: 0;}#sk-container-id-1 div.sk-dashed-wrapped {border: 1px dashed gray;margin: 0 0.4em 0.5em 0.4em;box-sizing: border-box;padding-bottom: 0.4em;background-color: white;}#sk-container-id-1 div.sk-label label {font-family: monospace;font-weight: bold;display: inline-block;line-height: 1.2em;}#sk-container-id-1 div.sk-label-container {text-align: center;}#sk-container-id-1 div.sk-container {/* jupyter's `normalize.less` sets `[hidden] { display: none; }` but bootstrap.min.css set `[hidden] { display: none !important; }` so we also need the `!important` here to be able to override the default hidden behavior on the sphinx rendered scikit-learn.org. See: https://github.com/scikit-learn/scikit-learn/issues/21755 */display: inline-block !important;position: relative;}#sk-container-id-1 div.sk-text-repr-fallback {display: none;}</style><div id=\"sk-container-id-1\" class=\"sk-top-container\"><div class=\"sk-text-repr-fallback\"><pre>DecisionTreeClassifier()</pre><b>In a Jupyter environment, please rerun this cell to show the HTML representation or trust the notebook. <br />On GitHub, the HTML representation is unable to render, please try loading this page with nbviewer.org.</b></div><div class=\"sk-container\" hidden><div class=\"sk-item\"><div class=\"sk-estimator sk-toggleable\"><input class=\"sk-toggleable__control sk-hidden--visually\" id=\"sk-estimator-id-1\" type=\"checkbox\" checked><label for=\"sk-estimator-id-1\" class=\"sk-toggleable__label sk-toggleable__label-arrow\">DecisionTreeClassifier</label><div class=\"sk-toggleable__content\"><pre>DecisionTreeClassifier()</pre></div></div></div></div></div>"
      ],
      "text/plain": [
       "DecisionTreeClassifier()"
      ]
     },
     "execution_count": 46,
     "metadata": {},
     "output_type": "execute_result"
    }
   ],
   "source": [
    "clf.fit(xtrain,ytrain)"
   ]
  },
  {
   "cell_type": "code",
   "execution_count": 47,
   "id": "f4932a0e",
   "metadata": {},
   "outputs": [
    {
     "data": {
      "text/plain": [
       "0.7817370881416409"
      ]
     },
     "execution_count": 47,
     "metadata": {},
     "output_type": "execute_result"
    }
   ],
   "source": [
    "clf.score(xtest,ytest)"
   ]
  },
  {
   "cell_type": "code",
   "execution_count": 48,
   "id": "7ad01ddf",
   "metadata": {},
   "outputs": [],
   "source": [
    "from sklearn.ensemble import RandomForestClassifier"
   ]
  },
  {
   "cell_type": "code",
   "execution_count": 49,
   "id": "cf381143",
   "metadata": {},
   "outputs": [],
   "source": [
    "rfc = RandomForestClassifier()"
   ]
  },
  {
   "cell_type": "code",
   "execution_count": 50,
   "id": "5b6c777b",
   "metadata": {},
   "outputs": [
    {
     "data": {
      "text/html": [
       "<style>#sk-container-id-2 {color: black;background-color: white;}#sk-container-id-2 pre{padding: 0;}#sk-container-id-2 div.sk-toggleable {background-color: white;}#sk-container-id-2 label.sk-toggleable__label {cursor: pointer;display: block;width: 100%;margin-bottom: 0;padding: 0.3em;box-sizing: border-box;text-align: center;}#sk-container-id-2 label.sk-toggleable__label-arrow:before {content: \"▸\";float: left;margin-right: 0.25em;color: #696969;}#sk-container-id-2 label.sk-toggleable__label-arrow:hover:before {color: black;}#sk-container-id-2 div.sk-estimator:hover label.sk-toggleable__label-arrow:before {color: black;}#sk-container-id-2 div.sk-toggleable__content {max-height: 0;max-width: 0;overflow: hidden;text-align: left;background-color: #f0f8ff;}#sk-container-id-2 div.sk-toggleable__content pre {margin: 0.2em;color: black;border-radius: 0.25em;background-color: #f0f8ff;}#sk-container-id-2 input.sk-toggleable__control:checked~div.sk-toggleable__content {max-height: 200px;max-width: 100%;overflow: auto;}#sk-container-id-2 input.sk-toggleable__control:checked~label.sk-toggleable__label-arrow:before {content: \"▾\";}#sk-container-id-2 div.sk-estimator input.sk-toggleable__control:checked~label.sk-toggleable__label {background-color: #d4ebff;}#sk-container-id-2 div.sk-label input.sk-toggleable__control:checked~label.sk-toggleable__label {background-color: #d4ebff;}#sk-container-id-2 input.sk-hidden--visually {border: 0;clip: rect(1px 1px 1px 1px);clip: rect(1px, 1px, 1px, 1px);height: 1px;margin: -1px;overflow: hidden;padding: 0;position: absolute;width: 1px;}#sk-container-id-2 div.sk-estimator {font-family: monospace;background-color: #f0f8ff;border: 1px dotted black;border-radius: 0.25em;box-sizing: border-box;margin-bottom: 0.5em;}#sk-container-id-2 div.sk-estimator:hover {background-color: #d4ebff;}#sk-container-id-2 div.sk-parallel-item::after {content: \"\";width: 100%;border-bottom: 1px solid gray;flex-grow: 1;}#sk-container-id-2 div.sk-label:hover label.sk-toggleable__label {background-color: #d4ebff;}#sk-container-id-2 div.sk-serial::before {content: \"\";position: absolute;border-left: 1px solid gray;box-sizing: border-box;top: 0;bottom: 0;left: 50%;z-index: 0;}#sk-container-id-2 div.sk-serial {display: flex;flex-direction: column;align-items: center;background-color: white;padding-right: 0.2em;padding-left: 0.2em;position: relative;}#sk-container-id-2 div.sk-item {position: relative;z-index: 1;}#sk-container-id-2 div.sk-parallel {display: flex;align-items: stretch;justify-content: center;background-color: white;position: relative;}#sk-container-id-2 div.sk-item::before, #sk-container-id-2 div.sk-parallel-item::before {content: \"\";position: absolute;border-left: 1px solid gray;box-sizing: border-box;top: 0;bottom: 0;left: 50%;z-index: -1;}#sk-container-id-2 div.sk-parallel-item {display: flex;flex-direction: column;z-index: 1;position: relative;background-color: white;}#sk-container-id-2 div.sk-parallel-item:first-child::after {align-self: flex-end;width: 50%;}#sk-container-id-2 div.sk-parallel-item:last-child::after {align-self: flex-start;width: 50%;}#sk-container-id-2 div.sk-parallel-item:only-child::after {width: 0;}#sk-container-id-2 div.sk-dashed-wrapped {border: 1px dashed gray;margin: 0 0.4em 0.5em 0.4em;box-sizing: border-box;padding-bottom: 0.4em;background-color: white;}#sk-container-id-2 div.sk-label label {font-family: monospace;font-weight: bold;display: inline-block;line-height: 1.2em;}#sk-container-id-2 div.sk-label-container {text-align: center;}#sk-container-id-2 div.sk-container {/* jupyter's `normalize.less` sets `[hidden] { display: none; }` but bootstrap.min.css set `[hidden] { display: none !important; }` so we also need the `!important` here to be able to override the default hidden behavior on the sphinx rendered scikit-learn.org. See: https://github.com/scikit-learn/scikit-learn/issues/21755 */display: inline-block !important;position: relative;}#sk-container-id-2 div.sk-text-repr-fallback {display: none;}</style><div id=\"sk-container-id-2\" class=\"sk-top-container\"><div class=\"sk-text-repr-fallback\"><pre>RandomForestClassifier()</pre><b>In a Jupyter environment, please rerun this cell to show the HTML representation or trust the notebook. <br />On GitHub, the HTML representation is unable to render, please try loading this page with nbviewer.org.</b></div><div class=\"sk-container\" hidden><div class=\"sk-item\"><div class=\"sk-estimator sk-toggleable\"><input class=\"sk-toggleable__control sk-hidden--visually\" id=\"sk-estimator-id-2\" type=\"checkbox\" checked><label for=\"sk-estimator-id-2\" class=\"sk-toggleable__label sk-toggleable__label-arrow\">RandomForestClassifier</label><div class=\"sk-toggleable__content\"><pre>RandomForestClassifier()</pre></div></div></div></div></div>"
      ],
      "text/plain": [
       "RandomForestClassifier()"
      ]
     },
     "execution_count": 50,
     "metadata": {},
     "output_type": "execute_result"
    }
   ],
   "source": [
    "rfc.fit(xtrain,ytrain)"
   ]
  },
  {
   "cell_type": "code",
   "execution_count": 51,
   "id": "3dea93e3",
   "metadata": {},
   "outputs": [
    {
     "data": {
      "text/plain": [
       "0.8448725186874732"
      ]
     },
     "execution_count": 51,
     "metadata": {},
     "output_type": "execute_result"
    }
   ],
   "source": [
    "rfc.score(xtest,ytest)"
   ]
  },
  {
   "cell_type": "markdown",
   "id": "8ad436d3",
   "metadata": {},
   "source": [
    "# XGBoost Classifier"
   ]
  },
  {
   "cell_type": "code",
   "execution_count": 52,
   "id": "6dad840d",
   "metadata": {
    "scrolled": false
   },
   "outputs": [],
   "source": [
    "import xgboost \n",
    "from xgboost import XGBClassifier"
   ]
  },
  {
   "cell_type": "code",
   "execution_count": 53,
   "id": "2c52de84",
   "metadata": {},
   "outputs": [],
   "source": [
    "xgb = XGBClassifier()"
   ]
  },
  {
   "cell_type": "code",
   "execution_count": 54,
   "id": "b0afb6e6",
   "metadata": {},
   "outputs": [
    {
     "data": {
      "text/html": [
       "<style>#sk-container-id-3 {color: black;background-color: white;}#sk-container-id-3 pre{padding: 0;}#sk-container-id-3 div.sk-toggleable {background-color: white;}#sk-container-id-3 label.sk-toggleable__label {cursor: pointer;display: block;width: 100%;margin-bottom: 0;padding: 0.3em;box-sizing: border-box;text-align: center;}#sk-container-id-3 label.sk-toggleable__label-arrow:before {content: \"▸\";float: left;margin-right: 0.25em;color: #696969;}#sk-container-id-3 label.sk-toggleable__label-arrow:hover:before {color: black;}#sk-container-id-3 div.sk-estimator:hover label.sk-toggleable__label-arrow:before {color: black;}#sk-container-id-3 div.sk-toggleable__content {max-height: 0;max-width: 0;overflow: hidden;text-align: left;background-color: #f0f8ff;}#sk-container-id-3 div.sk-toggleable__content pre {margin: 0.2em;color: black;border-radius: 0.25em;background-color: #f0f8ff;}#sk-container-id-3 input.sk-toggleable__control:checked~div.sk-toggleable__content {max-height: 200px;max-width: 100%;overflow: auto;}#sk-container-id-3 input.sk-toggleable__control:checked~label.sk-toggleable__label-arrow:before {content: \"▾\";}#sk-container-id-3 div.sk-estimator input.sk-toggleable__control:checked~label.sk-toggleable__label {background-color: #d4ebff;}#sk-container-id-3 div.sk-label input.sk-toggleable__control:checked~label.sk-toggleable__label {background-color: #d4ebff;}#sk-container-id-3 input.sk-hidden--visually {border: 0;clip: rect(1px 1px 1px 1px);clip: rect(1px, 1px, 1px, 1px);height: 1px;margin: -1px;overflow: hidden;padding: 0;position: absolute;width: 1px;}#sk-container-id-3 div.sk-estimator {font-family: monospace;background-color: #f0f8ff;border: 1px dotted black;border-radius: 0.25em;box-sizing: border-box;margin-bottom: 0.5em;}#sk-container-id-3 div.sk-estimator:hover {background-color: #d4ebff;}#sk-container-id-3 div.sk-parallel-item::after {content: \"\";width: 100%;border-bottom: 1px solid gray;flex-grow: 1;}#sk-container-id-3 div.sk-label:hover label.sk-toggleable__label {background-color: #d4ebff;}#sk-container-id-3 div.sk-serial::before {content: \"\";position: absolute;border-left: 1px solid gray;box-sizing: border-box;top: 0;bottom: 0;left: 50%;z-index: 0;}#sk-container-id-3 div.sk-serial {display: flex;flex-direction: column;align-items: center;background-color: white;padding-right: 0.2em;padding-left: 0.2em;position: relative;}#sk-container-id-3 div.sk-item {position: relative;z-index: 1;}#sk-container-id-3 div.sk-parallel {display: flex;align-items: stretch;justify-content: center;background-color: white;position: relative;}#sk-container-id-3 div.sk-item::before, #sk-container-id-3 div.sk-parallel-item::before {content: \"\";position: absolute;border-left: 1px solid gray;box-sizing: border-box;top: 0;bottom: 0;left: 50%;z-index: -1;}#sk-container-id-3 div.sk-parallel-item {display: flex;flex-direction: column;z-index: 1;position: relative;background-color: white;}#sk-container-id-3 div.sk-parallel-item:first-child::after {align-self: flex-end;width: 50%;}#sk-container-id-3 div.sk-parallel-item:last-child::after {align-self: flex-start;width: 50%;}#sk-container-id-3 div.sk-parallel-item:only-child::after {width: 0;}#sk-container-id-3 div.sk-dashed-wrapped {border: 1px dashed gray;margin: 0 0.4em 0.5em 0.4em;box-sizing: border-box;padding-bottom: 0.4em;background-color: white;}#sk-container-id-3 div.sk-label label {font-family: monospace;font-weight: bold;display: inline-block;line-height: 1.2em;}#sk-container-id-3 div.sk-label-container {text-align: center;}#sk-container-id-3 div.sk-container {/* jupyter's `normalize.less` sets `[hidden] { display: none; }` but bootstrap.min.css set `[hidden] { display: none !important; }` so we also need the `!important` here to be able to override the default hidden behavior on the sphinx rendered scikit-learn.org. See: https://github.com/scikit-learn/scikit-learn/issues/21755 */display: inline-block !important;position: relative;}#sk-container-id-3 div.sk-text-repr-fallback {display: none;}</style><div id=\"sk-container-id-3\" class=\"sk-top-container\"><div class=\"sk-text-repr-fallback\"><pre>XGBClassifier(base_score=0.5, booster=&#x27;gbtree&#x27;, callbacks=None,\n",
       "              colsample_bylevel=1, colsample_bynode=1, colsample_bytree=1,\n",
       "              early_stopping_rounds=None, enable_categorical=False,\n",
       "              eval_metric=None, gamma=0, gpu_id=-1, grow_policy=&#x27;depthwise&#x27;,\n",
       "              importance_type=None, interaction_constraints=&#x27;&#x27;,\n",
       "              learning_rate=0.300000012, max_bin=256, max_cat_to_onehot=4,\n",
       "              max_delta_step=0, max_depth=6, max_leaves=0, min_child_weight=1,\n",
       "              missing=nan, monotone_constraints=&#x27;()&#x27;, n_estimators=100,\n",
       "              n_jobs=0, num_parallel_tree=1, predictor=&#x27;auto&#x27;, random_state=0,\n",
       "              reg_alpha=0, reg_lambda=1, ...)</pre><b>In a Jupyter environment, please rerun this cell to show the HTML representation or trust the notebook. <br />On GitHub, the HTML representation is unable to render, please try loading this page with nbviewer.org.</b></div><div class=\"sk-container\" hidden><div class=\"sk-item\"><div class=\"sk-estimator sk-toggleable\"><input class=\"sk-toggleable__control sk-hidden--visually\" id=\"sk-estimator-id-3\" type=\"checkbox\" checked><label for=\"sk-estimator-id-3\" class=\"sk-toggleable__label sk-toggleable__label-arrow\">XGBClassifier</label><div class=\"sk-toggleable__content\"><pre>XGBClassifier(base_score=0.5, booster=&#x27;gbtree&#x27;, callbacks=None,\n",
       "              colsample_bylevel=1, colsample_bynode=1, colsample_bytree=1,\n",
       "              early_stopping_rounds=None, enable_categorical=False,\n",
       "              eval_metric=None, gamma=0, gpu_id=-1, grow_policy=&#x27;depthwise&#x27;,\n",
       "              importance_type=None, interaction_constraints=&#x27;&#x27;,\n",
       "              learning_rate=0.300000012, max_bin=256, max_cat_to_onehot=4,\n",
       "              max_delta_step=0, max_depth=6, max_leaves=0, min_child_weight=1,\n",
       "              missing=nan, monotone_constraints=&#x27;()&#x27;, n_estimators=100,\n",
       "              n_jobs=0, num_parallel_tree=1, predictor=&#x27;auto&#x27;, random_state=0,\n",
       "              reg_alpha=0, reg_lambda=1, ...)</pre></div></div></div></div></div>"
      ],
      "text/plain": [
       "XGBClassifier(base_score=0.5, booster='gbtree', callbacks=None,\n",
       "              colsample_bylevel=1, colsample_bynode=1, colsample_bytree=1,\n",
       "              early_stopping_rounds=None, enable_categorical=False,\n",
       "              eval_metric=None, gamma=0, gpu_id=-1, grow_policy='depthwise',\n",
       "              importance_type=None, interaction_constraints='',\n",
       "              learning_rate=0.300000012, max_bin=256, max_cat_to_onehot=4,\n",
       "              max_delta_step=0, max_depth=6, max_leaves=0, min_child_weight=1,\n",
       "              missing=nan, monotone_constraints='()', n_estimators=100,\n",
       "              n_jobs=0, num_parallel_tree=1, predictor='auto', random_state=0,\n",
       "              reg_alpha=0, reg_lambda=1, ...)"
      ]
     },
     "execution_count": 54,
     "metadata": {},
     "output_type": "execute_result"
    }
   ],
   "source": [
    "xgb.fit(xtrain,ytrain)"
   ]
  },
  {
   "cell_type": "code",
   "execution_count": 55,
   "id": "e2318def",
   "metadata": {},
   "outputs": [
    {
     "data": {
      "text/plain": [
       "0.8389478557394819"
      ]
     },
     "execution_count": 55,
     "metadata": {},
     "output_type": "execute_result"
    }
   ],
   "source": [
    "xgb.score(xtest,ytest)"
   ]
  },
  {
   "cell_type": "markdown",
   "id": "1acfd614",
   "metadata": {},
   "source": [
    "# ada boots"
   ]
  },
  {
   "cell_type": "code",
   "execution_count": 56,
   "id": "91b6a607",
   "metadata": {},
   "outputs": [],
   "source": [
    "from sklearn.ensemble import AdaBoostClassifier"
   ]
  },
  {
   "cell_type": "code",
   "execution_count": 57,
   "id": "bc53ce11",
   "metadata": {},
   "outputs": [],
   "source": [
    "adb = AdaBoostClassifier()"
   ]
  },
  {
   "cell_type": "code",
   "execution_count": 58,
   "id": "18ba8546",
   "metadata": {},
   "outputs": [
    {
     "data": {
      "text/html": [
       "<style>#sk-container-id-4 {color: black;background-color: white;}#sk-container-id-4 pre{padding: 0;}#sk-container-id-4 div.sk-toggleable {background-color: white;}#sk-container-id-4 label.sk-toggleable__label {cursor: pointer;display: block;width: 100%;margin-bottom: 0;padding: 0.3em;box-sizing: border-box;text-align: center;}#sk-container-id-4 label.sk-toggleable__label-arrow:before {content: \"▸\";float: left;margin-right: 0.25em;color: #696969;}#sk-container-id-4 label.sk-toggleable__label-arrow:hover:before {color: black;}#sk-container-id-4 div.sk-estimator:hover label.sk-toggleable__label-arrow:before {color: black;}#sk-container-id-4 div.sk-toggleable__content {max-height: 0;max-width: 0;overflow: hidden;text-align: left;background-color: #f0f8ff;}#sk-container-id-4 div.sk-toggleable__content pre {margin: 0.2em;color: black;border-radius: 0.25em;background-color: #f0f8ff;}#sk-container-id-4 input.sk-toggleable__control:checked~div.sk-toggleable__content {max-height: 200px;max-width: 100%;overflow: auto;}#sk-container-id-4 input.sk-toggleable__control:checked~label.sk-toggleable__label-arrow:before {content: \"▾\";}#sk-container-id-4 div.sk-estimator input.sk-toggleable__control:checked~label.sk-toggleable__label {background-color: #d4ebff;}#sk-container-id-4 div.sk-label input.sk-toggleable__control:checked~label.sk-toggleable__label {background-color: #d4ebff;}#sk-container-id-4 input.sk-hidden--visually {border: 0;clip: rect(1px 1px 1px 1px);clip: rect(1px, 1px, 1px, 1px);height: 1px;margin: -1px;overflow: hidden;padding: 0;position: absolute;width: 1px;}#sk-container-id-4 div.sk-estimator {font-family: monospace;background-color: #f0f8ff;border: 1px dotted black;border-radius: 0.25em;box-sizing: border-box;margin-bottom: 0.5em;}#sk-container-id-4 div.sk-estimator:hover {background-color: #d4ebff;}#sk-container-id-4 div.sk-parallel-item::after {content: \"\";width: 100%;border-bottom: 1px solid gray;flex-grow: 1;}#sk-container-id-4 div.sk-label:hover label.sk-toggleable__label {background-color: #d4ebff;}#sk-container-id-4 div.sk-serial::before {content: \"\";position: absolute;border-left: 1px solid gray;box-sizing: border-box;top: 0;bottom: 0;left: 50%;z-index: 0;}#sk-container-id-4 div.sk-serial {display: flex;flex-direction: column;align-items: center;background-color: white;padding-right: 0.2em;padding-left: 0.2em;position: relative;}#sk-container-id-4 div.sk-item {position: relative;z-index: 1;}#sk-container-id-4 div.sk-parallel {display: flex;align-items: stretch;justify-content: center;background-color: white;position: relative;}#sk-container-id-4 div.sk-item::before, #sk-container-id-4 div.sk-parallel-item::before {content: \"\";position: absolute;border-left: 1px solid gray;box-sizing: border-box;top: 0;bottom: 0;left: 50%;z-index: -1;}#sk-container-id-4 div.sk-parallel-item {display: flex;flex-direction: column;z-index: 1;position: relative;background-color: white;}#sk-container-id-4 div.sk-parallel-item:first-child::after {align-self: flex-end;width: 50%;}#sk-container-id-4 div.sk-parallel-item:last-child::after {align-self: flex-start;width: 50%;}#sk-container-id-4 div.sk-parallel-item:only-child::after {width: 0;}#sk-container-id-4 div.sk-dashed-wrapped {border: 1px dashed gray;margin: 0 0.4em 0.5em 0.4em;box-sizing: border-box;padding-bottom: 0.4em;background-color: white;}#sk-container-id-4 div.sk-label label {font-family: monospace;font-weight: bold;display: inline-block;line-height: 1.2em;}#sk-container-id-4 div.sk-label-container {text-align: center;}#sk-container-id-4 div.sk-container {/* jupyter's `normalize.less` sets `[hidden] { display: none; }` but bootstrap.min.css set `[hidden] { display: none !important; }` so we also need the `!important` here to be able to override the default hidden behavior on the sphinx rendered scikit-learn.org. See: https://github.com/scikit-learn/scikit-learn/issues/21755 */display: inline-block !important;position: relative;}#sk-container-id-4 div.sk-text-repr-fallback {display: none;}</style><div id=\"sk-container-id-4\" class=\"sk-top-container\"><div class=\"sk-text-repr-fallback\"><pre>AdaBoostClassifier()</pre><b>In a Jupyter environment, please rerun this cell to show the HTML representation or trust the notebook. <br />On GitHub, the HTML representation is unable to render, please try loading this page with nbviewer.org.</b></div><div class=\"sk-container\" hidden><div class=\"sk-item\"><div class=\"sk-estimator sk-toggleable\"><input class=\"sk-toggleable__control sk-hidden--visually\" id=\"sk-estimator-id-4\" type=\"checkbox\" checked><label for=\"sk-estimator-id-4\" class=\"sk-toggleable__label sk-toggleable__label-arrow\">AdaBoostClassifier</label><div class=\"sk-toggleable__content\"><pre>AdaBoostClassifier()</pre></div></div></div></div></div>"
      ],
      "text/plain": [
       "AdaBoostClassifier()"
      ]
     },
     "execution_count": 58,
     "metadata": {},
     "output_type": "execute_result"
    }
   ],
   "source": [
    "adb.fit(xtrain,ytrain)"
   ]
  },
  {
   "cell_type": "code",
   "execution_count": 59,
   "id": "d75f5c2e",
   "metadata": {},
   "outputs": [
    {
     "data": {
      "text/plain": [
       "0.8661446218468417"
      ]
     },
     "execution_count": 59,
     "metadata": {},
     "output_type": "execute_result"
    }
   ],
   "source": [
    "adb.score(xtest,ytest)"
   ]
  },
  {
   "cell_type": "code",
   "execution_count": 60,
   "id": "eeffe0ba",
   "metadata": {},
   "outputs": [],
   "source": [
    "# K Fold Cross Validation\n",
    "from sklearn.model_selection import KFold, cross_val_score, cross_validate"
   ]
  },
  {
   "cell_type": "code",
   "execution_count": 61,
   "id": "a918e0d2",
   "metadata": {},
   "outputs": [],
   "source": [
    "kfold = KFold(n_splits=4)"
   ]
  },
  {
   "cell_type": "code",
   "execution_count": 62,
   "id": "4ae45740",
   "metadata": {},
   "outputs": [],
   "source": [
    "# result = cross_val_score(rfc, x_new, y_new,cv=kfold) dd"
   ]
  },
  {
   "cell_type": "code",
   "execution_count": 63,
   "id": "667dc9ef",
   "metadata": {},
   "outputs": [],
   "source": [
    "from sklearn.model_selection import StratifiedKFold"
   ]
  },
  {
   "cell_type": "code",
   "execution_count": 64,
   "id": "dbed7308",
   "metadata": {},
   "outputs": [],
   "source": [
    "skfold = StratifiedKFold() "
   ]
  },
  {
   "cell_type": "code",
   "execution_count": null,
   "id": "0129cc79",
   "metadata": {},
   "outputs": [],
   "source": [
    "result = cross_val_score(xgb, x_new, y_new,cv=skfold)"
   ]
  },
  {
   "cell_type": "code",
   "execution_count": null,
   "id": "7d987921",
   "metadata": {},
   "outputs": [],
   "source": []
  }
 ],
 "metadata": {
  "kernelspec": {
   "display_name": "Python 3 (ipykernel)",
   "language": "python",
   "name": "python3"
  },
  "language_info": {
   "codemirror_mode": {
    "name": "ipython",
    "version": 3
   },
   "file_extension": ".py",
   "mimetype": "text/x-python",
   "name": "python",
   "nbconvert_exporter": "python",
   "pygments_lexer": "ipython3",
   "version": "3.9.7"
  }
 },
 "nbformat": 4,
 "nbformat_minor": 5
}
